{
 "cells": [
  {
   "cell_type": "markdown",
   "metadata": {},
   "source": [
    "# Initiation à la programmation en Python"
   ]
  },
  {
   "cell_type": "markdown",
   "metadata": {},
   "source": [
    "## 0. Interpréteur\n",
    "\n",
    "Afficher une valeur numérique, un entier ici."
   ]
  },
  {
   "cell_type": "code",
   "execution_count": 1,
   "metadata": {},
   "outputs": [
    {
     "data": {
      "text/plain": [
       "4"
      ]
     },
     "execution_count": 1,
     "metadata": {},
     "output_type": "execute_result"
    }
   ],
   "source": [
    "4"
   ]
  },
  {
   "cell_type": "markdown",
   "metadata": {},
   "source": [
    "On peut effectuer des calculs à l'aide des opérateurs `+` (addition), `-` (soustraction), `*` (multiplication) et `/` (division)."
   ]
  },
  {
   "cell_type": "code",
   "execution_count": 2,
   "metadata": {},
   "outputs": [
    {
     "data": {
      "text/plain": [
       "10"
      ]
     },
     "execution_count": 2,
     "metadata": {},
     "output_type": "execute_result"
    }
   ],
   "source": [
    "4 + 6"
   ]
  },
  {
   "cell_type": "code",
   "execution_count": 3,
   "metadata": {},
   "outputs": [
    {
     "data": {
      "text/plain": [
       "24"
      ]
     },
     "execution_count": 3,
     "metadata": {},
     "output_type": "execute_result"
    }
   ],
   "source": [
    "4 * 6"
   ]
  },
  {
   "cell_type": "code",
   "execution_count": 4,
   "metadata": {},
   "outputs": [
    {
     "data": {
      "text/plain": [
       "1.5"
      ]
     },
     "execution_count": 4,
     "metadata": {},
     "output_type": "execute_result"
    }
   ],
   "source": [
    "6 / 4"
   ]
  },
  {
   "cell_type": "markdown",
   "metadata": {},
   "source": [
    "Noter que les nombres décimaux s'écrivent avec un point (notation anglaise) et non une virgule. On peut effectuer une division entière avec l'opérateur `//`."
   ]
  },
  {
   "cell_type": "code",
   "execution_count": 5,
   "metadata": {},
   "outputs": [
    {
     "data": {
      "text/plain": [
       "1"
      ]
     },
     "execution_count": 5,
     "metadata": {},
     "output_type": "execute_result"
    }
   ],
   "source": [
    "6 // 4"
   ]
  },
  {
   "cell_type": "markdown",
   "metadata": {},
   "source": [
    "On peut également manipuler un autre type d'objets, le texte. On l'entoure toujours de guillemets."
   ]
  },
  {
   "cell_type": "code",
   "execution_count": 6,
   "metadata": {},
   "outputs": [
    {
     "data": {
      "text/plain": [
       "'Bonjour tout le monde'"
      ]
     },
     "execution_count": 6,
     "metadata": {},
     "output_type": "execute_result"
    }
   ],
   "source": [
    "\"Bonjour tout le monde\""
   ]
  },
  {
   "cell_type": "code",
   "execution_count": 7,
   "metadata": {},
   "outputs": [
    {
     "data": {
      "text/plain": [
       "'4'"
      ]
     },
     "execution_count": 7,
     "metadata": {},
     "output_type": "execute_result"
    }
   ],
   "source": [
    "\"4\""
   ]
  },
  {
   "cell_type": "markdown",
   "metadata": {},
   "source": [
    "Les opérations ne se comportent pas de la même façon pour le texte que pour les nombres."
   ]
  },
  {
   "cell_type": "code",
   "execution_count": 8,
   "metadata": {},
   "outputs": [
    {
     "data": {
      "text/plain": [
       "'Bonjour tout le monde'"
      ]
     },
     "execution_count": 8,
     "metadata": {},
     "output_type": "execute_result"
    }
   ],
   "source": [
    "\"Bonjour\" + \" \" + \"tout le monde\""
   ]
  },
  {
   "cell_type": "code",
   "execution_count": 9,
   "metadata": {},
   "outputs": [
    {
     "data": {
      "text/plain": [
       "'46'"
      ]
     },
     "execution_count": 9,
     "metadata": {},
     "output_type": "execute_result"
    }
   ],
   "source": [
    "\"4\" + \"6\""
   ]
  },
  {
   "cell_type": "markdown",
   "metadata": {},
   "source": [
    "On peut interragir avec l'utilisateur, en affichant du texte (fonction `print`) ou en lui demandant quelque chose (fonction `input`)."
   ]
  },
  {
   "cell_type": "code",
   "execution_count": 10,
   "metadata": {},
   "outputs": [
    {
     "name": "stdout",
     "output_type": "stream",
     "text": [
      "Bonjour tout le monde\n"
     ]
    }
   ],
   "source": [
    "print(\"Bonjour tout le monde\")"
   ]
  },
  {
   "cell_type": "code",
   "execution_count": 11,
   "metadata": {},
   "outputs": [
    {
     "name": "stdout",
     "output_type": "stream",
     "text": [
      "Yohan\n",
      "Je m'appelle Yohan\n"
     ]
    }
   ],
   "source": [
    "print(\"Je m'appelle\", input())"
   ]
  },
  {
   "cell_type": "markdown",
   "metadata": {},
   "source": [
    "## 1. Plus ou moins"
   ]
  },
  {
   "cell_type": "markdown",
   "metadata": {},
   "source": [
    "### 1.1. Variables"
   ]
  },
  {
   "cell_type": "markdown",
   "metadata": {},
   "source": [
    "Une variable est un nom qu'on donne à une valeur qui pourrait changer dans le temps. On peut lui assigner une valeur avec le symbole `=`."
   ]
  },
  {
   "cell_type": "code",
   "execution_count": 12,
   "metadata": {},
   "outputs": [
    {
     "data": {
      "text/plain": [
       "42"
      ]
     },
     "execution_count": 12,
     "metadata": {},
     "output_type": "execute_result"
    }
   ],
   "source": [
    "solution = 42\n",
    "solution"
   ]
  },
  {
   "cell_type": "code",
   "execution_count": 13,
   "metadata": {},
   "outputs": [
    {
     "data": {
      "text/plain": [
       "50"
      ]
     },
     "execution_count": 13,
     "metadata": {},
     "output_type": "execute_result"
    }
   ],
   "source": [
    "essai = 50\n",
    "essai"
   ]
  },
  {
   "cell_type": "markdown",
   "metadata": {},
   "source": [
    "On peut changer cette valeur à tout moment."
   ]
  },
  {
   "cell_type": "code",
   "execution_count": 14,
   "metadata": {},
   "outputs": [
    {
     "data": {
      "text/plain": [
       "12"
      ]
     },
     "execution_count": 14,
     "metadata": {},
     "output_type": "execute_result"
    }
   ],
   "source": [
    "solution = 12\n",
    "solution"
   ]
  },
  {
   "cell_type": "markdown",
   "metadata": {},
   "source": [
    "On peut également effectuer les opérations arithmétiques précédentes directement sur les variables, plutôt que sur les valeurs elles-mêmes. Cela permet d'être plus modulable."
   ]
  },
  {
   "cell_type": "code",
   "execution_count": 15,
   "metadata": {},
   "outputs": [
    {
     "data": {
      "text/plain": [
       "62"
      ]
     },
     "execution_count": 15,
     "metadata": {},
     "output_type": "execute_result"
    }
   ],
   "source": [
    "solution + essai"
   ]
  },
  {
   "cell_type": "code",
   "execution_count": 16,
   "metadata": {},
   "outputs": [
    {
     "data": {
      "text/plain": [
       "600"
      ]
     },
     "execution_count": 16,
     "metadata": {},
     "output_type": "execute_result"
    }
   ],
   "source": [
    "solution * essai"
   ]
  },
  {
   "cell_type": "markdown",
   "metadata": {},
   "source": [
    "Lorsque l'on demande une valeur à l'utilisateur, on peut stocker le résultat dans une variable, pour pouvoir le manipuler par la suite."
   ]
  },
  {
   "cell_type": "code",
   "execution_count": 17,
   "metadata": {},
   "outputs": [
    {
     "name": "stdout",
     "output_type": "stream",
     "text": [
      "Entrez un nombre : 76\n"
     ]
    },
    {
     "data": {
      "text/plain": [
       "'76'"
      ]
     },
     "execution_count": 17,
     "metadata": {},
     "output_type": "execute_result"
    }
   ],
   "source": [
    "essai = input(\"Entrez un nombre : \")\n",
    "essai"
   ]
  },
  {
   "cell_type": "markdown",
   "metadata": {},
   "source": [
    "Mais il y a alors une première subtilité. L'opération d'addition, par exemple, ne fonctionne plus. Pourquoi ?"
   ]
  },
  {
   "cell_type": "code",
   "execution_count": 18,
   "metadata": {},
   "outputs": [
    {
     "ename": "TypeError",
     "evalue": "unsupported operand type(s) for +: 'int' and 'str'",
     "output_type": "error",
     "traceback": [
      "\u001b[1;31m---------------------------------------------------------------------------\u001b[0m",
      "\u001b[1;31mTypeError\u001b[0m                                 Traceback (most recent call last)",
      "\u001b[1;32mC:\\Users\\YOHAN~1.CHA\\AppData\\Local\\Temp/ipykernel_7684/3921127028.py\u001b[0m in \u001b[0;36m<module>\u001b[1;34m\u001b[0m\n\u001b[1;32m----> 1\u001b[1;33m \u001b[0msolution\u001b[0m \u001b[1;33m+\u001b[0m \u001b[0messai\u001b[0m\u001b[1;33m\u001b[0m\u001b[1;33m\u001b[0m\u001b[0m\n\u001b[0m",
      "\u001b[1;31mTypeError\u001b[0m: unsupported operand type(s) for +: 'int' and 'str'"
     ]
    }
   ],
   "source": [
    "solution + essai"
   ]
  },
  {
   "cell_type": "markdown",
   "metadata": {},
   "source": [
    "Pour comprendre, il faut s'attacher à un petit détail. Lorsqu'on demande à Python d'afficher la valeur de `solution`, il retourne un nombre brut. Lorsqu'on demande d'afficher la valeur de `essai`, on voit que le nombre est entouré de guillemets. En fait, ces deux variables ne sont pas de même type. On peut inspecter le type d'une variable à l'aide de la fonction `type()`."
   ]
  },
  {
   "cell_type": "code",
   "execution_count": 19,
   "metadata": {},
   "outputs": [
    {
     "data": {
      "text/plain": [
       "int"
      ]
     },
     "execution_count": 19,
     "metadata": {},
     "output_type": "execute_result"
    }
   ],
   "source": [
    "type(solution)"
   ]
  },
  {
   "cell_type": "code",
   "execution_count": 20,
   "metadata": {},
   "outputs": [
    {
     "data": {
      "text/plain": [
       "str"
      ]
     },
     "execution_count": 20,
     "metadata": {},
     "output_type": "execute_result"
    }
   ],
   "source": [
    "type(essai)"
   ]
  },
  {
   "cell_type": "markdown",
   "metadata": {},
   "source": [
    "`solution` est de type `int` (pour *integer* en anglais, un nombre entier) alors que `essai` est de type `str` (pour *string* en anglais, une chaîne de caractères). La fonction `input()` accepte tout type d'entrée, même du texte. Elle ne va pas chercher à interpréter ce que l'utilisateur a renseigné, elle par du principe que ce n'est que du texte.\n",
    "\n",
    "Pour indiquer à Python qu'il s'agit bien d'un nombre entier, il faut le convertir à l'aide de la fonction `int()`."
   ]
  },
  {
   "cell_type": "code",
   "execution_count": 21,
   "metadata": {},
   "outputs": [
    {
     "data": {
      "text/plain": [
       "int"
      ]
     },
     "execution_count": 21,
     "metadata": {},
     "output_type": "execute_result"
    }
   ],
   "source": [
    "essai = int(essai)\n",
    "type(essai)"
   ]
  },
  {
   "cell_type": "markdown",
   "metadata": {},
   "source": [
    "L'addition fonctionne alors à nouveau, comme entre deux nombres."
   ]
  },
  {
   "cell_type": "code",
   "execution_count": 22,
   "metadata": {},
   "outputs": [
    {
     "data": {
      "text/plain": [
       "88"
      ]
     },
     "execution_count": 22,
     "metadata": {},
     "output_type": "execute_result"
    }
   ],
   "source": [
    "solution + essai"
   ]
  },
  {
   "cell_type": "markdown",
   "metadata": {},
   "source": [
    "Pour la curiosité, que se passe-t-il si on essaye de convertir en nombre entier du texte qui n'est pas un nombre ? Eh bien, cela provoque une erreur."
   ]
  },
  {
   "cell_type": "code",
   "execution_count": 23,
   "metadata": {},
   "outputs": [
    {
     "ename": "ValueError",
     "evalue": "invalid literal for int() with base 10: 'Bonjour !'",
     "output_type": "error",
     "traceback": [
      "\u001b[1;31m---------------------------------------------------------------------------\u001b[0m",
      "\u001b[1;31mValueError\u001b[0m                                Traceback (most recent call last)",
      "\u001b[1;32mC:\\Users\\YOHAN~1.CHA\\AppData\\Local\\Temp/ipykernel_7684/1222703179.py\u001b[0m in \u001b[0;36m<module>\u001b[1;34m\u001b[0m\n\u001b[1;32m----> 1\u001b[1;33m \u001b[0mint\u001b[0m\u001b[1;33m(\u001b[0m\u001b[1;34m\"Bonjour !\"\u001b[0m\u001b[1;33m)\u001b[0m\u001b[1;33m\u001b[0m\u001b[1;33m\u001b[0m\u001b[0m\n\u001b[0m",
      "\u001b[1;31mValueError\u001b[0m: invalid literal for int() with base 10: 'Bonjour !'"
     ]
    }
   ],
   "source": [
    "int(\"Bonjour !\")"
   ]
  },
  {
   "cell_type": "markdown",
   "metadata": {},
   "source": [
    "### 1.2. Conditions\n",
    "\n",
    "Après les opérateurs arithmétiques, il en existe pour comparer entre eux deux éléments :\n",
    "\n",
    "- `>` : strictement plus grand que\n",
    "- `<` : strictement plus petit que\n",
    "- `==` : égal (noter le double signe égal, pour bien faire la différence avec le signe utilisé pour l'affectation)\n",
    "- `>=` : plus grand ou égal\n",
    "- `<=` : plus petit ou égal\n",
    "\n",
    "On peut comparer deux nombres entre eux :"
   ]
  },
  {
   "cell_type": "code",
   "execution_count": 24,
   "metadata": {},
   "outputs": [
    {
     "data": {
      "text/plain": [
       "True"
      ]
     },
     "execution_count": 24,
     "metadata": {},
     "output_type": "execute_result"
    }
   ],
   "source": [
    "6 > 4"
   ]
  },
  {
   "cell_type": "code",
   "execution_count": 25,
   "metadata": {},
   "outputs": [
    {
     "data": {
      "text/plain": [
       "False"
      ]
     },
     "execution_count": 25,
     "metadata": {},
     "output_type": "execute_result"
    }
   ],
   "source": [
    "6 < 4"
   ]
  },
  {
   "cell_type": "markdown",
   "metadata": {},
   "source": [
    "On peut comparer deux chaînes de caractères entre elles, l'ordre utilisé est l'ordre alphabétique :"
   ]
  },
  {
   "cell_type": "code",
   "execution_count": 26,
   "metadata": {},
   "outputs": [
    {
     "data": {
      "text/plain": [
       "False"
      ]
     },
     "execution_count": 26,
     "metadata": {},
     "output_type": "execute_result"
    }
   ],
   "source": [
    "\"bonjour\" > \"boulanger\""
   ]
  },
  {
   "cell_type": "code",
   "execution_count": 27,
   "metadata": {},
   "outputs": [
    {
     "data": {
      "text/plain": [
       "True"
      ]
     },
     "execution_count": 27,
     "metadata": {},
     "output_type": "execute_result"
    }
   ],
   "source": [
    "\"bonjour\" < \"boulanger\""
   ]
  },
  {
   "cell_type": "markdown",
   "metadata": {},
   "source": [
    "Mais on peut également comparer directement deux variables entre elles (tant qu'elles sont de même type)."
   ]
  },
  {
   "cell_type": "code",
   "execution_count": 28,
   "metadata": {},
   "outputs": [
    {
     "data": {
      "text/plain": [
       "False"
      ]
     },
     "execution_count": 28,
     "metadata": {},
     "output_type": "execute_result"
    }
   ],
   "source": [
    "solution > essai"
   ]
  },
  {
   "cell_type": "code",
   "execution_count": 29,
   "metadata": {},
   "outputs": [
    {
     "data": {
      "text/plain": [
       "True"
      ]
     },
     "execution_count": 29,
     "metadata": {},
     "output_type": "execute_result"
    }
   ],
   "source": [
    "solution < essai"
   ]
  },
  {
   "cell_type": "code",
   "execution_count": 30,
   "metadata": {},
   "outputs": [
    {
     "data": {
      "text/plain": [
       "False"
      ]
     },
     "execution_count": 30,
     "metadata": {},
     "output_type": "execute_result"
    }
   ],
   "source": [
    "solution == essai"
   ]
  },
  {
   "cell_type": "markdown",
   "metadata": {},
   "source": [
    "On peut choisir d'effectuer certaines actions seulement si une de ces conditions est respectée. C'est le rôle du mot-clé `if`.\n",
    "\n",
    "Attention, on commence à utiliser **l'indentation** : il faut que le texte concerné par le `if` soit décalé sur la droite, avec le même nombre d'espaces à chaque fois (ici, par exemple, 4)."
   ]
  },
  {
   "cell_type": "code",
   "execution_count": 31,
   "metadata": {},
   "outputs": [
    {
     "name": "stdout",
     "output_type": "stream",
     "text": [
      "C'est moins\n"
     ]
    }
   ],
   "source": [
    "solution = 42\n",
    "essai = 46\n",
    "\n",
    "if solution > essai:\n",
    "    print(\"C'est plus\")\n",
    "if solution < essai:\n",
    "    print(\"C'est moins\")\n",
    "if solution == essai:\n",
    "    print(\"C'est égal\")"
   ]
  },
  {
   "cell_type": "markdown",
   "metadata": {},
   "source": [
    "Dans ce morceau de script, si la `solution` est strictement plus grande que `essai`, alors la première condition va être vérifiée, et non les suivantes. On peut donc éviter de les considérer, en remplaçant `if` par `elif` (en anglais *else if*, sinon si) et `else` (sinon). À noter qu'il ne sert plus à rien d'écrire la condition complète derrière `else`, car il s'agit d'un cas par défaut : si aucune des conditions précédentes n'est respectée, alors on ira dans celle-ci."
   ]
  },
  {
   "cell_type": "code",
   "execution_count": 32,
   "metadata": {},
   "outputs": [
    {
     "name": "stdout",
     "output_type": "stream",
     "text": [
      "C'est moins\n"
     ]
    }
   ],
   "source": [
    "solution = 42\n",
    "essai = 46\n",
    "\n",
    "if solution > essai:\n",
    "    print(\"C'est plus\")\n",
    "elif solution < essai:\n",
    "    print(\"C'est moins\")\n",
    "else:\n",
    "    print(\"C'est égal\")"
   ]
  },
  {
   "cell_type": "markdown",
   "metadata": {},
   "source": [
    "### 1.3. Génération d'un nombre aléatoire"
   ]
  },
  {
   "cell_type": "markdown",
   "metadata": {},
   "source": [
    "On en arrive à la création de notre jeu : trouver un nombre avec cette mécanique de chaud-froid. Pour que le jeu soit intéressant, il faudrait pouvoir choisir au hasard le nombre à trouver, pour ne pas le connaître en amont.\n",
    "\n",
    "On peut faire cela grâce à un **module** Python, le module `random` (aléatoire). Comme il s'agit d'un module externe, il faut d'abord l'importer dans Python, avec le mot-clé `import`. On utilise alors la fonction `randint()` (*random integer*, nombre entier aléatoire), en renseignant les bornes de la génération aléatoire.\n",
    "\n",
    "À chaque fois qu'on relance la cellule, un nouveau nombre est choisi."
   ]
  },
  {
   "cell_type": "code",
   "execution_count": 33,
   "metadata": {},
   "outputs": [
    {
     "name": "stdout",
     "output_type": "stream",
     "text": [
      "12\n"
     ]
    }
   ],
   "source": [
    "import random\n",
    "solution = random.randint(1, 100)\n",
    "print(solution)"
   ]
  },
  {
   "cell_type": "markdown",
   "metadata": {},
   "source": [
    "### 1.4. Logique du jeu"
   ]
  },
  {
   "cell_type": "markdown",
   "metadata": {},
   "source": [
    "C'est parti pour notre jeu. Il faut désormais réfléchir à sa logique :\n",
    "\n",
    "1. On choisit un nombre au hasard\n",
    "2. On demande à l'utilisateur de faire une proposition\n",
    "   - S'il trouve, on arrête tout, c'est gagné !\n",
    "   - Si la proposition est trop grande, on indique \"plus petit\" et on recommence\n",
    "   - Si la proposition est trop petite, on indique \"plus grand\" et on recommence\n",
    "\n",
    "Commençons par faire une étape du jeu."
   ]
  },
  {
   "cell_type": "code",
   "execution_count": 34,
   "metadata": {},
   "outputs": [
    {
     "name": "stdout",
     "output_type": "stream",
     "text": [
      "Entrez un nombre : 50\n",
      "C'est moins\n",
      "La solution était 14\n"
     ]
    }
   ],
   "source": [
    "solution = random.randint(1, 100)\n",
    "\n",
    "essai = int(input(\"Entrez un nombre : \"))\n",
    "\n",
    "if solution > essai:\n",
    "    print(\"C'est plus\")\n",
    "elif solution < essai:\n",
    "    print(\"C'est moins\")\n",
    "else:\n",
    "    print(\"C'est égal\")\n",
    "    \n",
    "print(\"La solution était\", solution)"
   ]
  },
  {
   "cell_type": "markdown",
   "metadata": {},
   "source": [
    "Il faudrait pour répéter cette étape encore et encore, tant que l'utilisateur n'a pas trouvé. On pourrait copier-coller le code encore et encore, mais ce n'est ni pratique, ni très élégant, et si l'utilisateur est vraiment mauvais il pourrait avoir besoin de plus de tentatives que ce qu'il sera possible de faire. On va plutôt utiliser une autre fonctionnalité courante en programmation, les **boucles**. Elles permettent de faire exactement cela : répéter quelque chose tant qu'une condition n'est pas vérifiée. On utilise pour cela le mot-clé `while`, et l'opérateur `!=` (différent)."
   ]
  },
  {
   "cell_type": "code",
   "execution_count": 35,
   "metadata": {},
   "outputs": [
    {
     "name": "stdout",
     "output_type": "stream",
     "text": [
      "Entrez un nombre: 50\n",
      "C'est plus\n",
      "Entrez un nombre: 75\n",
      "C'est plus\n",
      "Entrez un nombre: 82\n",
      "C'est plus\n",
      "Entrez un nombre: 90\n",
      "C'est plus\n",
      "Entrez un nombre: 85\n",
      "C'est plus\n",
      "Entrez un nombre: 95\n",
      "C'est plus\n",
      "Entrez un nombre: 98\n",
      "C'est plus\n",
      "Entrez un nombre: 99\n",
      "Bravo !\n"
     ]
    }
   ],
   "source": [
    "solution = random.randint(1, 100)\n",
    "\n",
    "# On assigne une valeur arbitraire\n",
    "# pour pouvoir rentrer une première\n",
    "# fois dans la boucle\n",
    "essai = -1\n",
    "\n",
    "while solution != essai:\n",
    "    essai = int(input(\"Entrez un nombre: \"))\n",
    "    if essai < solution:\n",
    "        print(\"C'est plus\")\n",
    "    elif essai > solution:\n",
    "        print(\"C'est moins\")\n",
    "\n",
    "print(\"Bravo !\")"
   ]
  },
  {
   "cell_type": "markdown",
   "metadata": {},
   "source": [
    "Voilà, le jeu est déjà prêt. Pour ajouter un petit côté compétitif, on peut compter le nombre de tentatives."
   ]
  },
  {
   "cell_type": "code",
   "execution_count": 36,
   "metadata": {},
   "outputs": [
    {
     "name": "stdout",
     "output_type": "stream",
     "text": [
      "Entrez un nombre: 50\n",
      "C'est moins\n",
      "Entrez un nombre: 25\n",
      "C'est moins\n",
      "Entrez un nombre: 12\n",
      "C'est plus\n",
      "Entrez un nombre: 20\n",
      "C'est plus\n",
      "Entrez un nombre: 23\n",
      "C'est moins\n",
      "Entrez un nombre: 22\n",
      "C'est moins\n",
      "Entrez un nombre: 21\n",
      "Trouvé en 7 tentatives\n"
     ]
    }
   ],
   "source": [
    "solution = random.randint(1, 100)\n",
    "essai = -1\n",
    "\n",
    "nombre_essais = 0\n",
    "\n",
    "while essai != solution:\n",
    "    essai = int(input(\"Entrez un nombre: \"))\n",
    "    nombre_essais = nombre_essais + 1\n",
    "    if essai < solution:\n",
    "        print(\"C'est plus\")\n",
    "    elif essai > solution:\n",
    "        print(\"C'est moins\")\n",
    "        \n",
    "print(\"Trouvé en\", nombre_essais, \"tentatives\")"
   ]
  },
  {
   "cell_type": "markdown",
   "metadata": {},
   "source": [
    "## 2. Pendu\n",
    "\n",
    "Deuxième jeu, le pendu : il faut trouver un mot en tentant des lettres. Si la lettre est dans le mot, tous les emplacements où cette lettre apparaît sont révélés. Sinon, une erreur est comptée. Au bout d'un certain nombre d'erreurs, on a perdu."
   ]
  },
  {
   "cell_type": "markdown",
   "metadata": {},
   "source": [
    "### 2.1. Notion de liste\n",
    "\n",
    "Comme on va travailler avec du texte, le jeu va beaucoup reposer sur la manipulation des chaînes de caractères, le type `str` que nous avons abordé un peu plus tôt."
   ]
  },
  {
   "cell_type": "code",
   "execution_count": 37,
   "metadata": {},
   "outputs": [
    {
     "data": {
      "text/plain": [
       "str"
      ]
     },
     "execution_count": 37,
     "metadata": {},
     "output_type": "execute_result"
    }
   ],
   "source": [
    "solution = \"EXERCICE\"\n",
    "type(solution)"
   ]
  },
  {
   "cell_type": "markdown",
   "metadata": {},
   "source": [
    "On peut déjà connaître la taille d'une chaîne en utilisant la fonction `len` (pour *length*, longueur)."
   ]
  },
  {
   "cell_type": "code",
   "execution_count": 38,
   "metadata": {},
   "outputs": [
    {
     "data": {
      "text/plain": [
       "8"
      ]
     },
     "execution_count": 38,
     "metadata": {},
     "output_type": "execute_result"
    }
   ],
   "source": [
    "nombre_de_lettres = len(solution)\n",
    "nombre_de_lettres"
   ]
  },
  {
   "cell_type": "markdown",
   "metadata": {},
   "source": [
    "On peut accéder individuellement aux lettres de la chaîne en fonction de leur position. On utilise pour cela une syntaxe entre crochets. Attention : la première position est `0`, puis `1`, `2`, etc., le tout jusqu'à `len(chaine) - 1`."
   ]
  },
  {
   "cell_type": "code",
   "execution_count": 39,
   "metadata": {},
   "outputs": [
    {
     "data": {
      "text/plain": [
       "'E'"
      ]
     },
     "execution_count": 39,
     "metadata": {},
     "output_type": "execute_result"
    }
   ],
   "source": [
    "solution[0]"
   ]
  },
  {
   "cell_type": "code",
   "execution_count": 40,
   "metadata": {},
   "outputs": [
    {
     "data": {
      "text/plain": [
       "'X'"
      ]
     },
     "execution_count": 40,
     "metadata": {},
     "output_type": "execute_result"
    }
   ],
   "source": [
    "solution[1]"
   ]
  },
  {
   "cell_type": "code",
   "execution_count": 41,
   "metadata": {},
   "outputs": [
    {
     "data": {
      "text/plain": [
       "'E'"
      ]
     },
     "execution_count": 41,
     "metadata": {},
     "output_type": "execute_result"
    }
   ],
   "source": [
    "solution[7]"
   ]
  },
  {
   "cell_type": "markdown",
   "metadata": {},
   "source": [
    "Si on essaye d'accéder à un caractère qui n'existe pas, nous obtenons une erreur."
   ]
  },
  {
   "cell_type": "code",
   "execution_count": 42,
   "metadata": {},
   "outputs": [
    {
     "ename": "IndexError",
     "evalue": "string index out of range",
     "output_type": "error",
     "traceback": [
      "\u001b[1;31m---------------------------------------------------------------------------\u001b[0m",
      "\u001b[1;31mIndexError\u001b[0m                                Traceback (most recent call last)",
      "\u001b[1;32mC:\\Users\\YOHAN~1.CHA\\AppData\\Local\\Temp/ipykernel_7684/1058647306.py\u001b[0m in \u001b[0;36m<module>\u001b[1;34m\u001b[0m\n\u001b[1;32m----> 1\u001b[1;33m \u001b[0msolution\u001b[0m\u001b[1;33m[\u001b[0m\u001b[1;36m8\u001b[0m\u001b[1;33m]\u001b[0m\u001b[1;33m\u001b[0m\u001b[1;33m\u001b[0m\u001b[0m\n\u001b[0m",
      "\u001b[1;31mIndexError\u001b[0m: string index out of range"
     ]
    }
   ],
   "source": [
    "solution[8]"
   ]
  },
  {
   "cell_type": "markdown",
   "metadata": {},
   "source": [
    "Pour parcourir toutes ces lettres, on aurait également besoin de faire une boucle, pour répéter la même action pour chaque caractère. On pourrait le faire avec la boucle `while`, mais il y a encore plus pratique, la boucle `for` !"
   ]
  },
  {
   "cell_type": "code",
   "execution_count": 43,
   "metadata": {},
   "outputs": [
    {
     "name": "stdout",
     "output_type": "stream",
     "text": [
      "E\n",
      "X\n",
      "E\n",
      "R\n",
      "C\n",
      "I\n",
      "C\n",
      "E\n"
     ]
    }
   ],
   "source": [
    "for lettre in solution:\n",
    "    print(lettre)"
   ]
  },
  {
   "cell_type": "markdown",
   "metadata": {},
   "source": [
    "La boucle `for` est prévue exactement pour cela, itérer à travers tous les éléments d'une chaîne, ou d'une liste. Elle va souvent de paire avec une fonction qui énumère des nombres, la fonction `range()`. En utilisant la fonction `range(n)`, elle génère une liste de nombres entre `0` et `n-1`."
   ]
  },
  {
   "cell_type": "code",
   "execution_count": 44,
   "metadata": {},
   "outputs": [
    {
     "name": "stdout",
     "output_type": "stream",
     "text": [
      "0\n",
      "1\n",
      "2\n",
      "3\n",
      "4\n"
     ]
    }
   ],
   "source": [
    "for i in range(5):\n",
    "    print(i)"
   ]
  },
  {
   "cell_type": "markdown",
   "metadata": {},
   "source": [
    "On peut utiliser ce `range` pour accéder aux lettres à partir de leur position, en utilisant la notation entres crochets."
   ]
  },
  {
   "cell_type": "code",
   "execution_count": 45,
   "metadata": {},
   "outputs": [
    {
     "name": "stdout",
     "output_type": "stream",
     "text": [
      "0 E\n",
      "1 X\n",
      "2 E\n",
      "3 R\n",
      "4 C\n",
      "5 I\n",
      "6 C\n",
      "7 E\n"
     ]
    }
   ],
   "source": [
    "for i in range(nombre_de_lettres):\n",
    "    print(i, solution[i])"
   ]
  },
  {
   "cell_type": "markdown",
   "metadata": {},
   "source": [
    "Mais il y a une chose que l'on ne peut pas faire avec les chaînes de caractères : les altérer. On peut changer tout d'un coup, mais pas un seul caractère."
   ]
  },
  {
   "cell_type": "code",
   "execution_count": 46,
   "metadata": {},
   "outputs": [
    {
     "ename": "TypeError",
     "evalue": "'str' object does not support item assignment",
     "output_type": "error",
     "traceback": [
      "\u001b[1;31m---------------------------------------------------------------------------\u001b[0m",
      "\u001b[1;31mTypeError\u001b[0m                                 Traceback (most recent call last)",
      "\u001b[1;32mC:\\Users\\YOHAN~1.CHA\\AppData\\Local\\Temp/ipykernel_7684/4112979650.py\u001b[0m in \u001b[0;36m<module>\u001b[1;34m\u001b[0m\n\u001b[1;32m----> 1\u001b[1;33m \u001b[0msolution\u001b[0m\u001b[1;33m[\u001b[0m\u001b[1;36m0\u001b[0m\u001b[1;33m]\u001b[0m \u001b[1;33m=\u001b[0m \u001b[1;34m\"A\"\u001b[0m\u001b[1;33m\u001b[0m\u001b[1;33m\u001b[0m\u001b[0m\n\u001b[0m",
      "\u001b[1;31mTypeError\u001b[0m: 'str' object does not support item assignment"
     ]
    }
   ],
   "source": [
    "solution[0] = \"A\""
   ]
  },
  {
   "cell_type": "markdown",
   "metadata": {},
   "source": [
    "Pour en revenir à notre pendu, nous on voudrait pouvoir modifier une chaîne de caractères. L'état du jeu, c'est-à-dire toutes les lettres dans le mot que l'utilisateur a déjà trouvées, seront stockées dans une chaîne de caractères, par défaut avec seuleument des tirets `----`. Lorsqu'une lettre est trouvée, on remplace tous les caractères dans cette chaîne où elle apparaît, par exemple `E--E` si on essaye la lettre `E` pour le mot `ELLE`. Comment faire alors ?\n",
    "\n",
    "On va utiliser une autre structure de données, les **listes**. C'est en fait très similaire aux chaînes de caractères, sauf qu'elles peuvent accepter tout type de contenu (pas forcémment des lettres, mais aussi des nombres, des chaînes de caractères, d'autres listes, etc.), et que l'on peut modifier un élément unique. On définit une liste avec des crochets en notant tous ses éléments avec des virgules."
   ]
  },
  {
   "cell_type": "code",
   "execution_count": 47,
   "metadata": {},
   "outputs": [
    {
     "data": {
      "text/plain": [
       "['-', '-', '-', '-']"
      ]
     },
     "execution_count": 47,
     "metadata": {},
     "output_type": "execute_result"
    }
   ],
   "source": [
    "mot = [\"-\", \"-\", \"-\", \"-\"]\n",
    "mot"
   ]
  },
  {
   "cell_type": "code",
   "execution_count": 48,
   "metadata": {},
   "outputs": [
    {
     "data": {
      "text/plain": [
       "list"
      ]
     },
     "execution_count": 48,
     "metadata": {},
     "output_type": "execute_result"
    }
   ],
   "source": [
    "type(mot)"
   ]
  },
  {
   "cell_type": "markdown",
   "metadata": {},
   "source": [
    "La fonction `len()` fonctionne ici aussi, pour obtenir le nombre d'éléments dans la liste."
   ]
  },
  {
   "cell_type": "code",
   "execution_count": 49,
   "metadata": {},
   "outputs": [
    {
     "data": {
      "text/plain": [
       "4"
      ]
     },
     "execution_count": 49,
     "metadata": {},
     "output_type": "execute_result"
    }
   ],
   "source": [
    "len(mot)"
   ]
  },
  {
   "cell_type": "markdown",
   "metadata": {},
   "source": [
    "Et on peut modifier chaque élément indépendemment des autres."
   ]
  },
  {
   "cell_type": "code",
   "execution_count": 50,
   "metadata": {},
   "outputs": [
    {
     "data": {
      "text/plain": [
       "['A', '-', '-', '-']"
      ]
     },
     "execution_count": 50,
     "metadata": {},
     "output_type": "execute_result"
    }
   ],
   "source": [
    "mot[0] = \"A\"\n",
    "mot"
   ]
  },
  {
   "cell_type": "code",
   "execution_count": 51,
   "metadata": {},
   "outputs": [
    {
     "data": {
      "text/plain": [
       "['A', 'B', 'C', 'D']"
      ]
     },
     "execution_count": 51,
     "metadata": {},
     "output_type": "execute_result"
    }
   ],
   "source": [
    "mot[1] = \"B\"\n",
    "mot[2] = \"C\"\n",
    "mot[3] = \"D\"\n",
    "mot"
   ]
  },
  {
   "cell_type": "markdown",
   "metadata": {},
   "source": [
    "Petite astuce pour plus tard : on a ici une liste qui fonctionne un peu comme une chaîne de caractères : tous ses éléments sont déjà des lettres. Si on veut reformer une chaîne de caractères à partir de ces lettres, on peut utiliser la **méthode** `.join()`."
   ]
  },
  {
   "cell_type": "code",
   "execution_count": 52,
   "metadata": {},
   "outputs": [
    {
     "data": {
      "text/plain": [
       "'ABCD'"
      ]
     },
     "execution_count": 52,
     "metadata": {},
     "output_type": "execute_result"
    }
   ],
   "source": [
    "\"\".join(mot)"
   ]
  },
  {
   "cell_type": "markdown",
   "metadata": {},
   "source": [
    "Autre petite astuce, on peut définir une liste en répétant un même élément un certain nombre de fois, avec l'opérateur `*`."
   ]
  },
  {
   "cell_type": "code",
   "execution_count": 53,
   "metadata": {},
   "outputs": [
    {
     "data": {
      "text/plain": [
       "['-', '-', '-', '-', '-', '-', '-', '-', '-', '-']"
      ]
     },
     "execution_count": 53,
     "metadata": {},
     "output_type": "execute_result"
    }
   ],
   "source": [
    "mot = [\"-\"] * 10\n",
    "mot"
   ]
  },
  {
   "cell_type": "markdown",
   "metadata": {},
   "source": [
    "### 2.2. Logique du jeu\n",
    "\n",
    "Bien, nous avons tout ce qu'il nous faut. Passons aux choses sérieuses.\n",
    "\n",
    "Premièrement, on initialise les éléments du programme. On définit la solution, et ce qu'à trouvé le joueur."
   ]
  },
  {
   "cell_type": "code",
   "execution_count": 54,
   "metadata": {
    "scrolled": true
   },
   "outputs": [],
   "source": [
    "solution = \"EXERCICE\"\n",
    "nombre_de_lettres = len(solution)\n",
    "mot = [\"-\"] * nombre_de_lettres"
   ]
  },
  {
   "cell_type": "markdown",
   "metadata": {},
   "source": [
    "Passons à la mécanique du pendu. Lorsque le joueur propose une lettre, il faut la comparer avec toutes les lettres de la solution. Lorsque l'on obtient une correspondance, on peut révéler la lettre à la même position."
   ]
  },
  {
   "cell_type": "code",
   "execution_count": 55,
   "metadata": {},
   "outputs": [
    {
     "name": "stdout",
     "output_type": "stream",
     "text": [
      "Entrez une lettre : E\n"
     ]
    },
    {
     "data": {
      "text/plain": [
       "'E-E----E'"
      ]
     },
     "execution_count": 55,
     "metadata": {},
     "output_type": "execute_result"
    }
   ],
   "source": [
    "lettre = input(\"Entrez une lettre : \")\n",
    "\n",
    "for i in range(nombre_de_lettres):\n",
    "    if solution[i] == lettre:\n",
    "        mot[i] = lettre\n",
    "        \n",
    "\"\".join(mot)"
   ]
  },
  {
   "cell_type": "markdown",
   "metadata": {},
   "source": [
    "Il ne reste plus qu'à répéter cela tant que le mot n'est pas trouvé."
   ]
  },
  {
   "cell_type": "code",
   "execution_count": 56,
   "metadata": {
    "scrolled": true
   },
   "outputs": [
    {
     "name": "stdout",
     "output_type": "stream",
     "text": [
      "--------\n",
      "Entrez une lettre : E\n",
      "E-E----E\n",
      "Entrez une lettre : X\n",
      "EXE----E\n",
      "Entrez une lettre : R\n",
      "EXER---E\n",
      "Entrez une lettre : C\n",
      "EXERC-CE\n",
      "Entrez une lettre : I\n"
     ]
    }
   ],
   "source": [
    "solution = \"EXERCICE\"\n",
    "nombre_de_lettres = len(solution)\n",
    "mot = [\"-\"] * nombre_de_lettres\n",
    "mot_str = \"\".join(mot)\n",
    "\n",
    "while solution != mot_str:\n",
    "    print(mot_str)\n",
    "    lettre = input(\"Entrez une lettre : \")\n",
    "    for i in range(nombre_de_lettres):\n",
    "        if solution[i] == lettre:\n",
    "            mot[i] = lettre\n",
    "    mot_str = \"\".join(mot)\n"
   ]
  },
  {
   "cell_type": "markdown",
   "metadata": {},
   "source": [
    "Enfin, pour rajouter du piquant, on compte les erreurs. Si le nombre d'erreur dépasse un certain seuil, on arrête tout avec la commande `break` : cela permet de sortir plus tôt que prévu de la boucle."
   ]
  },
  {
   "cell_type": "code",
   "execution_count": 57,
   "metadata": {},
   "outputs": [
    {
     "name": "stdout",
     "output_type": "stream",
     "text": [
      "\n",
      "Erreurs :  0\n",
      "--------\n",
      "Entrez une lettre : E\n",
      "\n",
      "Erreurs :  0\n",
      "E-E----E\n",
      "Entrez une lettre : X\n",
      "\n",
      "Erreurs :  0\n",
      "EXE----E\n",
      "Entrez une lettre : A\n",
      "\n",
      "Erreurs :  1\n",
      "EXE----E\n",
      "Entrez une lettre : I\n",
      "\n",
      "Erreurs :  1\n",
      "EXE--I-E\n",
      "Entrez une lettre : O\n",
      "\n",
      "Erreurs :  2\n",
      "EXE--I-E\n",
      "Entrez une lettre : U\n",
      "\n",
      "Erreurs :  3\n",
      "EXE--I-E\n",
      "Entrez une lettre : C\n",
      "\n",
      "Erreurs :  3\n",
      "EXE-CICE\n",
      "Entrez une lettre : R\n",
      "Bravo ! La solution était EXERCICE\n"
     ]
    }
   ],
   "source": [
    "solution = \"EXERCICE\"\n",
    "nombre_de_lettres = len(solution)\n",
    "mot = [\"-\"] * nombre_de_lettres\n",
    "mot_str = \"\".join(mot)\n",
    "\n",
    "erreurs = 0\n",
    "erreurs_maximum = 7\n",
    "\n",
    "while solution != mot_str:\n",
    "    \n",
    "    print(\"\\nErreurs : \", erreurs)\n",
    "    \n",
    "    print(mot_str)\n",
    "    lettre = input(\"Entrez une lettre : \")\n",
    "    \n",
    "    est_une_erreur = True\n",
    "    for i in range(nombre_de_lettres):\n",
    "        if solution[i] == lettre:\n",
    "            mot[i] = lettre\n",
    "            est_une_erreur = False\n",
    "    \n",
    "    if est_une_erreur:\n",
    "        erreurs = erreurs + 1\n",
    "    \n",
    "    mot_str = \"\".join(mot)\n",
    "    if erreurs >= erreurs_maximum:\n",
    "        print(\"Perdu… La solution était\", solution)\n",
    "        break\n",
    "    if mot_str == solution:\n",
    "        print(\"Bravo ! La solution était\", solution)\n"
   ]
  },
  {
   "cell_type": "markdown",
   "metadata": {},
   "source": [
    "### 2.3. Lecture d'un fichier"
   ]
  },
  {
   "cell_type": "markdown",
   "metadata": {},
   "source": [
    "Enfin, comme pour le jeu du plus ou moins, pour rendre les choses intéressantes, il faut que le mot soit choisi au hasard parmi une liste de mots. Le fichier [pendu.txt](pendu.txt) contient ces mots. On va le lire dans Python pour en extraire la liste de mots. On commence par ouvrir le fichier avec la fonction `open()`, puis on le lit avec la méthode `.read()` et on le ferme avec la méthode `.close()`."
   ]
  },
  {
   "cell_type": "code",
   "execution_count": 58,
   "metadata": {},
   "outputs": [
    {
     "data": {
      "text/plain": [
       "'ACCORD\\nACHETE\\nACHETER\\nACIER\\nACTE\\nAIDER\\nAILE\\nAIMANT\\nAINSI\\nAJOUTER\\nALIMENTATION\\nALLER\\nAMOUR\\nAMUSEMENT\\nANIMAL\\nANNEAU\\nANNEE\\nAPPARAITRE\\nAPPEL\\nAPPORTE\\nAPPORTER\\nAPPRENDRE\\nAPRES\\nARBRE\\nARGENT\\nARRETEZ\\nARRIERE\\nARRIVER\\nASCENSEUR\\nASSEZ\\nASSIMILER\\nATOME\\nATTEINDRE\\nATTENDRE\\nAUCUN\\nAUGMENTER\\nAUSSI\\nAUTRE\\nAVANT\\nAVEC\\nAVIS\\nAVOIR\\nBAIGNADE\\nBALLE\\nBANDE\\nBANQUE\\nBASE\\nBATEAU\\nBATON\\nBATTRE\\nBEAUCOUP\\nBEAUTE\\nBEBE\\nBESOIN\\nBIEN\\nBIENTOT\\nBLANC\\nBLEU\\nBLOC\\nBOIS\\nBOISSON\\nBOITE\\nBORD\\nBOUCHE\\nBOUTIQUE\\nBRANCHE\\nBRAS\\nBRUIT\\nBRULER\\nBRUN\\nBUREAU\\nCALME\\nCAMION\\nCAMP\\nCANARD\\nCAPABLE\\nCAPITAINE\\nCAPITAL\\nCAPTURE\\nCARACTERE\\nCARRE\\nCARTE\\nCASSE\\nCELEBRE\\nCELLULE\\nCENT\\nCENTRE\\nCERCLE\\nCERTAIN\\nCERTAINS\\nCEUX\\nCHAINE\\nCHAISE\\nCHALEUR\\nCHAMBRE\\nCHANCE\\nCHANGEMENT\\nCHANSON\\nCHANTER\\nCHAPEAU\\nCHAQUE\\nCHARGER\\nCHASSE\\nCHAT\\nCHAUD\\nCHAUSSURE\\nCHEF\\nCHEMIN\\nCHER\\nCHEVAL\\nCHEVEUX\\nCHIEN\\nCHIFFRE\\nCHOISIR\\nCHOSE\\nCIEL\\nCINQ\\nCLAIR\\nCLASSE\\nCLOCHE\\nCOIN\\nCOLERE\\nCOLLINE\\nCOLONIE\\nCOLONNE\\nCOMME\\nCOMMENCER\\nCOMMENT\\nCOMMERCE\\nCOMMUN\\nCOMPARER\\nCOMPETENCE\\nCOMPLETE\\nCOMPTER\\nCONCEPTION\\nCONDITION\\nCONDUIRE\\nCONSEIL\\nCONSERVE\\nCONSONNE\\nCONSTRUIRE\\nCONTENIR\\nCONTINUER\\nCONTRE\\nCONTROLE\\nCOPIE\\nCOQUILLE\\nCORDE\\nCORPS\\nCORRECT\\nCOSTUME\\nCOTE\\nCOTON\\nCOULEUR\\nCOUP\\nCOUPE\\nCOUR\\nCOURANT\\nCOURIR\\nCOURS\\nCOURSE\\nCOURT\\nCOUT\\nCOUVERCLE\\nCREER\\nCROIRE\\nCROITRE\\nCUISINIER\\nDAME\\nDANGER\\nDANS\\nDANSE\\nDEBIT\\nDEBUT\\nDECES\\nDECIDER\\nDECIMAL\\nDECRIRE\\nDEGRE\\nDEHORS\\nDEMENAGEMENT\\nDENTS\\nDEPENDRE\\nDEPUIS\\nDERNIER\\nDERRIERE\\nDESERT\\nDETERMINER\\nDEUX\\nDEUXIEME\\nDEVELOPPER\\nDEVINER\\nDEVRAIT\\nDICTIONNAIRE\\nDIFFERER\\nDIFFICILE\\nDIFFICULTE\\nDIRE\\nDIRECT\\nDISCOURS\\nDISCUTER\\nDISPARU\\nDIVISION\\nDOIGT\\nDOIT\\nDOLLAR\\nDOMAINE\\nDONNE\\nDONNER\\nDONT\\nDOUBLE\\nDOUX\\nDROIT\\nECHELLE\\nECLAT\\nECOLE\\nECOUTER\\nECRIRE\\nECRIT\\nEFFET\\nEGAL\\nELECTRIQUE\\nELEMENT\\nELLE\\nEMPLOI\\nENCORE\\nENERGIE\\nENFANT\\nENFANTS\\nENNEMI\\nENORME\\nENREGISTRER\\nENSEIGNER\\nENSEMBLE\\nENTENDRE\\nENTENDU\\nENTRAINEMENT\\nENTRE\\nENTREPRISE\\nENTRER\\nENVISAGER\\nENVOYER\\nEPAIS\\nEPAULE\\nEPELER\\nEQUIPE\\nESCLAVE\\nESPACE\\nESPOIR\\nESPRIT\\nESSAYER\\nETAGE\\nETAIENT\\nETAIT\\nETAPE\\nETAT\\nETOILE\\nETRANGE\\nETRE\\nETUDE\\nETUDIANT\\nEVENEMENT\\nEXACT\\nEXCITER\\nEXEMPLE\\nEXERCICE\\nEXIGER\\nEXPEDIE\\nEXPERIENCE\\nFABRIQUE\\nFACE\\nFACILITE\\nFAIBLE\\nFAIRE\\nFAIT\\nFAMILLE\\nFAVORISER\\nFEMME\\nFEMMES\\nFENETRE\\nFERME\\nFEUILLE\\nFEUTRE\\nFIGUE\\nFIGURE\\nFILLE\\nFILS\\nFINALE\\nFINITION\\nFLEUR\\nFONCTIONNER\\nFORCE\\nFORET\\nFORME\\nFORT\\nFOULE\\nFOURNIR\\nFRACTION\\nFRACTURE\\nFRAIS\\nFRAPPER\\nFRERE\\nFROID\\nFRUIT\\nGAGNER\\nGAMME\\nGARCON\\nGARDER\\nGAUCHE\\nGENERAL\\nGENRE\\nGLACE\\nGLISSEMENT\\nGOUVERNER\\nGRAISSE\\nGRAND\\nGRANDIOSE\\nGRAPHIQUE\\nGRATUIT\\nGRIS\\nGROUPE\\nGUERRE\\nGUIDER\\nHABITUEL\\nHAUT\\nHERBE\\nHEURE\\nHEUREUX\\nHISTOIRE\\nHIVER\\nHOMME\\nHOMMES\\nHORLOGE\\nHUILE\\nHUIT\\nHUMAIN\\nIDEE\\nIMAGE\\nIMAGINER\\nIMPRESSION\\nINCLURE\\nINDIQUER\\nINDUSTRIE\\nINSECTE\\nINSTANT\\nINSTRUMENT\\nINTERET\\nINTERROGER\\nINVENTER\\nJAMAIS\\nJAMBE\\nJARDIN\\nJAUNE\\nJETER\\nJEUNE\\nJOIE\\nJOINDRE\\nJOUER\\nJOUR\\nJUSTE\\nLAISSER\\nLAIT\\nLANGUE\\nLARGE\\nLAVAGE\\nLENT\\nLETTRE\\nLEUR\\nLIEN\\nLIEU\\nLIGNE\\nLIQUIDE\\nLIRE\\nLISTE\\nLITRE\\nLIVRE\\nLOCALISER\\nLOIN\\nLOINTAIN\\nLONG\\nLONGUEUR\\nLOURD\\nLUMIERE\\nLUNE\\nLUTTE\\nMACHINE\\nMAGASIN\\nMAIN\\nMAINTENANT\\nMAIS\\nMAISON\\nMAITRE\\nMAJEUR\\nMANGER\\nMANIERE\\nMANQUER\\nMANTEAU\\nMARCHE\\nMARCHER\\nMARQUE\\nMASSE\\nMATERIEL\\nMATIN\\nMAUVAIS\\nMEDECIN\\nMEILLEUR\\nMELANGER\\nMELODIE\\nMEME\\nMENSONGE\\nMERCI\\nMERE\\nMESURER\\nMETAL\\nMETHODE\\nMETTRE\\nMIDI\\nMIEUX\\nMILE\\nMILIEU\\nMILLE\\nMILLION\\nMINCE\\nMINE\\nMINUSCULE\\nMINUTE\\nMODELE\\nMODERNE\\nMOINS\\nMOIS\\nMOITIE\\nMOLECULE\\nMOMENT\\nMONDE\\nMONTAGNE\\nMONTEE\\nMONTRER\\nMONTURE\\nMORT\\nMOTEUR\\nMOURIR\\nMOUVEMENT\\nMULTIPLIER\\nMUSIQUE\\nNATION\\nNATURE\\nNATUREL\\nNAVIRE\\nNECESSAIRE\\nNEIGE\\nNEUF\\nNIVEAU\\nNOIR\\nNOMBRE\\nNORD\\nNOTE\\nNOTRE\\nNOURRITURE\\nNOUS\\nNOUVEAU\\nNUAGE\\nNUIT\\nOBJET\\nOBSERVER\\nOBTENIR\\nOCCUPE\\nOCEAN\\nODEUR\\nOISEAU\\nOPPOSE\\nORDRE\\nOREILLE\\nORGANE\\nORGANISER\\nORIGINAL\\nOUEST\\nOUTIL\\nOUVERT\\nOXYGENE\\nPAGE\\nPAIN\\nPAIRE\\nPAPA\\nPAPIER\\nPARAGRAPHE\\nPARAITRE\\nPARLER\\nPART\\nPARTICULIER\\nPARTICULIEREMENT\\nPARTIE\\nPASSE\\nPASSER\\nPATIENTER\\nPAUSE\\nPAUVRES\\nPAYER\\nPAYS\\nPEAU\\nPEINDRE\\nPENDANT\\nPENSEE\\nPENSER\\nPERDU\\nPERE\\nPERIODE\\nPERMETTRE\\nPERSONNE\\nPERSONNES\\nPETIT\\nPEUPLER\\nPEUR\\nPEUT\\nPHRASE\\nPIECE\\nPIED\\nPIEDS\\nPIERRE\\nPISTE\\nPISTOLET\\nPLACE\\nPLAINE\\nPLAN\\nPLANETE\\nPLAT\\nPLEIN\\nPLUIE\\nPLURIEL\\nPLUS\\nPLUSIEURS\\nPLUTOT\\nPNEU\\nPOEME\\nPOIDS\\nPOINT\\nPOISSON\\nPOMME\\nPORT\\nPORTE\\nPORTER\\nPOSE\\nPOSER\\nPOSITION\\nPOSSIBLE\\nPOSTE\\nPOUCE\\nPOUR\\nPOURQUOI\\nPOURRAIT\\nPOUSSER\\nPOUSSIN\\nPRATIQUE\\nPREMIERE\\nPRENDRE\\nPREPARER\\nPRESENT\\nPRESSE\\nPRET\\nPRINCIPAL\\nPRINTEMPS\\nPRIS\\nPROBABLE\\nPROBLEME\\nPROCESSUS\\nPROCHE\\nPRODUIRE\\nPRODUIT\\nPROFOND\\nPROPAGATION\\nPROPOSITION\\nPROPRE\\nPROPRIETE\\nPROTEGER\\nPROUVER\\nPUIS\\nPUISSANCE\\nQUAND\\nQUATRE\\nQUESTION\\nQUEUE\\nQUOTIENT\\nRACINE\\nRADIO\\nRAIL\\nRAISON\\nRANGEE\\nRAPIDE\\nRAPPELER\\nRAYON\\nRECEVOIR\\nRECHERCHE\\nRECOLTE\\nRECORD\\nRECUEILLIR\\nREEL\\nREGARDER\\nREGION\\nREGLE\\nREGLER\\nRELIER\\nREMPLIR\\nRENCONTRE\\nREPETITION\\nREPONDRE\\nREPONSE\\nREPRESENTER\\nRESISTE\\nRESOUDRE\\nRESTE\\nRESTER\\nRESULTAT\\nREVENDICATION\\nREVER\\nRICHE\\nRIEN\\nRIRE\\nRIVAGE\\nRIVIERE\\nROBE\\nROCK\\nROSE\\nROUE\\nROUGE\\nROULEAU\\nROUTE\\nSABLE\\nSAISON\\nSANG\\nSAUF\\nSAUTER\\nSAUVAGE\\nSAUVER\\nSAVAIT\\nSAVOIR\\nSCIE\\nSCIENCE\\nSCORE\\nSECTION\\nSEGMENT\\nSELECTIONNER\\nSEMAINE\\nSEMENCE\\nSENS\\nSENTIR\\nSEPARE\\nSEPT\\nSERVIR\\nSEUL\\nSEULEMENT\\nSIECLE\\nSIEGE\\nSIGNE\\nSIGNIFIAIT\\nSIGNIFIER\\nSILENCIEUX\\nSIMILAIRE\\nSIMPLE\\nSOINS\\nSOIREE\\nSOLDAT\\nSOLEIL\\nSOLUTION\\nSOMBRE\\nSOMMEIL\\nSONT\\nSOUDAIN\\nSOUHAITER\\nSOURIRE\\nSOUS\\nSOUSTRAIRE\\nSOUVENT\\nSPECIAL\\nSTATION\\nSUBSTANCE\\nSUCCES\\nSUCRE\\nSUFFIXE\\nSUGGERER\\nSUIVANT\\nSUIVRE\\nSUJET\\nSUPPORT\\nSUPPORTER\\nSURFACE\\nSURPRISE\\nSYLLABE\\nSYMBOLE\\nSYSTEME\\nTABLE\\nTAILLE\\nTARD\\nTEMPERATURE\\nTEMPS\\nTENIR\\nTERME\\nTERMINE\\nTERRE\\nTEST\\nTETE\\nTIRER\\nTOMBER\\nTOTAL\\nTOUCHER\\nTOUJOURS\\nTOUR\\nTOUS\\nTOUT\\nTRAIN\\nTRAVAIL\\nTRAVERSER\\nTRES\\nTRIANGLE\\nTROIS\\nTROISIEME\\nTRONCON\\nTROP\\nTROU\\nTROUVE\\nTROUVER\\nTUBE\\nTUER\\nTYPE\\nUNIQUE\\nUNITE\\nUSINE\\nUTILISER\\nVACHE\\nVAGUE\\nVALEUR\\nVALLEE\\nVAPEUR\\nVARIER\\nVENDRE\\nVENIR\\nVENT\\nVERBE\\nVERIFIER\\nVERRE\\nVERS\\nVERT\\nVETIR\\nVIANDE\\nVIEUX\\nVILLAGE\\nVILLE\\nVINGT\\nVISITE\\nVITESSE\\nVIVRE\\nVOILE\\nVOIR\\nVOISIN\\nVOITURE\\nVOIX\\nVOLER\\nVOLONTE\\nVOTRE\\nVOUDRAIS\\nVOULOIR\\nVOUS\\nVOYAGE\\nVOYELLE\\nVRAI\\nZONE'"
      ]
     },
     "execution_count": 58,
     "metadata": {},
     "output_type": "execute_result"
    }
   ],
   "source": [
    "fichier = open(\"pendu.txt\")\n",
    "texte = fichier.read()\n",
    "fichier.close()\n",
    "texte"
   ]
  },
  {
   "cell_type": "markdown",
   "metadata": {},
   "source": [
    "On voit bien que tous les éléments sont là, mais ils sont tous collés, séparés uniquement par un drôle de caractère, `\\n`. Il s'agit en réalité d'un retour à la ligne. On va séparer cette grande chaîne de caractères en plusieurs petites en la divisant à chaque `\\n`. On utilise pour cela la méthode `.split()`."
   ]
  },
  {
   "cell_type": "code",
   "execution_count": 59,
   "metadata": {
    "scrolled": true
   },
   "outputs": [
    {
     "data": {
      "text/plain": [
       "['ACCORD',\n",
       " 'ACHETE',\n",
       " 'ACHETER',\n",
       " 'ACIER',\n",
       " 'ACTE',\n",
       " 'AIDER',\n",
       " 'AILE',\n",
       " 'AIMANT',\n",
       " 'AINSI',\n",
       " 'AJOUTER',\n",
       " 'ALIMENTATION',\n",
       " 'ALLER',\n",
       " 'AMOUR',\n",
       " 'AMUSEMENT',\n",
       " 'ANIMAL',\n",
       " 'ANNEAU',\n",
       " 'ANNEE',\n",
       " 'APPARAITRE',\n",
       " 'APPEL',\n",
       " 'APPORTE',\n",
       " 'APPORTER',\n",
       " 'APPRENDRE',\n",
       " 'APRES',\n",
       " 'ARBRE',\n",
       " 'ARGENT',\n",
       " 'ARRETEZ',\n",
       " 'ARRIERE',\n",
       " 'ARRIVER',\n",
       " 'ASCENSEUR',\n",
       " 'ASSEZ',\n",
       " 'ASSIMILER',\n",
       " 'ATOME',\n",
       " 'ATTEINDRE',\n",
       " 'ATTENDRE',\n",
       " 'AUCUN',\n",
       " 'AUGMENTER',\n",
       " 'AUSSI',\n",
       " 'AUTRE',\n",
       " 'AVANT',\n",
       " 'AVEC',\n",
       " 'AVIS',\n",
       " 'AVOIR',\n",
       " 'BAIGNADE',\n",
       " 'BALLE',\n",
       " 'BANDE',\n",
       " 'BANQUE',\n",
       " 'BASE',\n",
       " 'BATEAU',\n",
       " 'BATON',\n",
       " 'BATTRE',\n",
       " 'BEAUCOUP',\n",
       " 'BEAUTE',\n",
       " 'BEBE',\n",
       " 'BESOIN',\n",
       " 'BIEN',\n",
       " 'BIENTOT',\n",
       " 'BLANC',\n",
       " 'BLEU',\n",
       " 'BLOC',\n",
       " 'BOIS',\n",
       " 'BOISSON',\n",
       " 'BOITE',\n",
       " 'BORD',\n",
       " 'BOUCHE',\n",
       " 'BOUTIQUE',\n",
       " 'BRANCHE',\n",
       " 'BRAS',\n",
       " 'BRUIT',\n",
       " 'BRULER',\n",
       " 'BRUN',\n",
       " 'BUREAU',\n",
       " 'CALME',\n",
       " 'CAMION',\n",
       " 'CAMP',\n",
       " 'CANARD',\n",
       " 'CAPABLE',\n",
       " 'CAPITAINE',\n",
       " 'CAPITAL',\n",
       " 'CAPTURE',\n",
       " 'CARACTERE',\n",
       " 'CARRE',\n",
       " 'CARTE',\n",
       " 'CASSE',\n",
       " 'CELEBRE',\n",
       " 'CELLULE',\n",
       " 'CENT',\n",
       " 'CENTRE',\n",
       " 'CERCLE',\n",
       " 'CERTAIN',\n",
       " 'CERTAINS',\n",
       " 'CEUX',\n",
       " 'CHAINE',\n",
       " 'CHAISE',\n",
       " 'CHALEUR',\n",
       " 'CHAMBRE',\n",
       " 'CHANCE',\n",
       " 'CHANGEMENT',\n",
       " 'CHANSON',\n",
       " 'CHANTER',\n",
       " 'CHAPEAU',\n",
       " 'CHAQUE',\n",
       " 'CHARGER',\n",
       " 'CHASSE',\n",
       " 'CHAT',\n",
       " 'CHAUD',\n",
       " 'CHAUSSURE',\n",
       " 'CHEF',\n",
       " 'CHEMIN',\n",
       " 'CHER',\n",
       " 'CHEVAL',\n",
       " 'CHEVEUX',\n",
       " 'CHIEN',\n",
       " 'CHIFFRE',\n",
       " 'CHOISIR',\n",
       " 'CHOSE',\n",
       " 'CIEL',\n",
       " 'CINQ',\n",
       " 'CLAIR',\n",
       " 'CLASSE',\n",
       " 'CLOCHE',\n",
       " 'COIN',\n",
       " 'COLERE',\n",
       " 'COLLINE',\n",
       " 'COLONIE',\n",
       " 'COLONNE',\n",
       " 'COMME',\n",
       " 'COMMENCER',\n",
       " 'COMMENT',\n",
       " 'COMMERCE',\n",
       " 'COMMUN',\n",
       " 'COMPARER',\n",
       " 'COMPETENCE',\n",
       " 'COMPLETE',\n",
       " 'COMPTER',\n",
       " 'CONCEPTION',\n",
       " 'CONDITION',\n",
       " 'CONDUIRE',\n",
       " 'CONSEIL',\n",
       " 'CONSERVE',\n",
       " 'CONSONNE',\n",
       " 'CONSTRUIRE',\n",
       " 'CONTENIR',\n",
       " 'CONTINUER',\n",
       " 'CONTRE',\n",
       " 'CONTROLE',\n",
       " 'COPIE',\n",
       " 'COQUILLE',\n",
       " 'CORDE',\n",
       " 'CORPS',\n",
       " 'CORRECT',\n",
       " 'COSTUME',\n",
       " 'COTE',\n",
       " 'COTON',\n",
       " 'COULEUR',\n",
       " 'COUP',\n",
       " 'COUPE',\n",
       " 'COUR',\n",
       " 'COURANT',\n",
       " 'COURIR',\n",
       " 'COURS',\n",
       " 'COURSE',\n",
       " 'COURT',\n",
       " 'COUT',\n",
       " 'COUVERCLE',\n",
       " 'CREER',\n",
       " 'CROIRE',\n",
       " 'CROITRE',\n",
       " 'CUISINIER',\n",
       " 'DAME',\n",
       " 'DANGER',\n",
       " 'DANS',\n",
       " 'DANSE',\n",
       " 'DEBIT',\n",
       " 'DEBUT',\n",
       " 'DECES',\n",
       " 'DECIDER',\n",
       " 'DECIMAL',\n",
       " 'DECRIRE',\n",
       " 'DEGRE',\n",
       " 'DEHORS',\n",
       " 'DEMENAGEMENT',\n",
       " 'DENTS',\n",
       " 'DEPENDRE',\n",
       " 'DEPUIS',\n",
       " 'DERNIER',\n",
       " 'DERRIERE',\n",
       " 'DESERT',\n",
       " 'DETERMINER',\n",
       " 'DEUX',\n",
       " 'DEUXIEME',\n",
       " 'DEVELOPPER',\n",
       " 'DEVINER',\n",
       " 'DEVRAIT',\n",
       " 'DICTIONNAIRE',\n",
       " 'DIFFERER',\n",
       " 'DIFFICILE',\n",
       " 'DIFFICULTE',\n",
       " 'DIRE',\n",
       " 'DIRECT',\n",
       " 'DISCOURS',\n",
       " 'DISCUTER',\n",
       " 'DISPARU',\n",
       " 'DIVISION',\n",
       " 'DOIGT',\n",
       " 'DOIT',\n",
       " 'DOLLAR',\n",
       " 'DOMAINE',\n",
       " 'DONNE',\n",
       " 'DONNER',\n",
       " 'DONT',\n",
       " 'DOUBLE',\n",
       " 'DOUX',\n",
       " 'DROIT',\n",
       " 'ECHELLE',\n",
       " 'ECLAT',\n",
       " 'ECOLE',\n",
       " 'ECOUTER',\n",
       " 'ECRIRE',\n",
       " 'ECRIT',\n",
       " 'EFFET',\n",
       " 'EGAL',\n",
       " 'ELECTRIQUE',\n",
       " 'ELEMENT',\n",
       " 'ELLE',\n",
       " 'EMPLOI',\n",
       " 'ENCORE',\n",
       " 'ENERGIE',\n",
       " 'ENFANT',\n",
       " 'ENFANTS',\n",
       " 'ENNEMI',\n",
       " 'ENORME',\n",
       " 'ENREGISTRER',\n",
       " 'ENSEIGNER',\n",
       " 'ENSEMBLE',\n",
       " 'ENTENDRE',\n",
       " 'ENTENDU',\n",
       " 'ENTRAINEMENT',\n",
       " 'ENTRE',\n",
       " 'ENTREPRISE',\n",
       " 'ENTRER',\n",
       " 'ENVISAGER',\n",
       " 'ENVOYER',\n",
       " 'EPAIS',\n",
       " 'EPAULE',\n",
       " 'EPELER',\n",
       " 'EQUIPE',\n",
       " 'ESCLAVE',\n",
       " 'ESPACE',\n",
       " 'ESPOIR',\n",
       " 'ESPRIT',\n",
       " 'ESSAYER',\n",
       " 'ETAGE',\n",
       " 'ETAIENT',\n",
       " 'ETAIT',\n",
       " 'ETAPE',\n",
       " 'ETAT',\n",
       " 'ETOILE',\n",
       " 'ETRANGE',\n",
       " 'ETRE',\n",
       " 'ETUDE',\n",
       " 'ETUDIANT',\n",
       " 'EVENEMENT',\n",
       " 'EXACT',\n",
       " 'EXCITER',\n",
       " 'EXEMPLE',\n",
       " 'EXERCICE',\n",
       " 'EXIGER',\n",
       " 'EXPEDIE',\n",
       " 'EXPERIENCE',\n",
       " 'FABRIQUE',\n",
       " 'FACE',\n",
       " 'FACILITE',\n",
       " 'FAIBLE',\n",
       " 'FAIRE',\n",
       " 'FAIT',\n",
       " 'FAMILLE',\n",
       " 'FAVORISER',\n",
       " 'FEMME',\n",
       " 'FEMMES',\n",
       " 'FENETRE',\n",
       " 'FERME',\n",
       " 'FEUILLE',\n",
       " 'FEUTRE',\n",
       " 'FIGUE',\n",
       " 'FIGURE',\n",
       " 'FILLE',\n",
       " 'FILS',\n",
       " 'FINALE',\n",
       " 'FINITION',\n",
       " 'FLEUR',\n",
       " 'FONCTIONNER',\n",
       " 'FORCE',\n",
       " 'FORET',\n",
       " 'FORME',\n",
       " 'FORT',\n",
       " 'FOULE',\n",
       " 'FOURNIR',\n",
       " 'FRACTION',\n",
       " 'FRACTURE',\n",
       " 'FRAIS',\n",
       " 'FRAPPER',\n",
       " 'FRERE',\n",
       " 'FROID',\n",
       " 'FRUIT',\n",
       " 'GAGNER',\n",
       " 'GAMME',\n",
       " 'GARCON',\n",
       " 'GARDER',\n",
       " 'GAUCHE',\n",
       " 'GENERAL',\n",
       " 'GENRE',\n",
       " 'GLACE',\n",
       " 'GLISSEMENT',\n",
       " 'GOUVERNER',\n",
       " 'GRAISSE',\n",
       " 'GRAND',\n",
       " 'GRANDIOSE',\n",
       " 'GRAPHIQUE',\n",
       " 'GRATUIT',\n",
       " 'GRIS',\n",
       " 'GROUPE',\n",
       " 'GUERRE',\n",
       " 'GUIDER',\n",
       " 'HABITUEL',\n",
       " 'HAUT',\n",
       " 'HERBE',\n",
       " 'HEURE',\n",
       " 'HEUREUX',\n",
       " 'HISTOIRE',\n",
       " 'HIVER',\n",
       " 'HOMME',\n",
       " 'HOMMES',\n",
       " 'HORLOGE',\n",
       " 'HUILE',\n",
       " 'HUIT',\n",
       " 'HUMAIN',\n",
       " 'IDEE',\n",
       " 'IMAGE',\n",
       " 'IMAGINER',\n",
       " 'IMPRESSION',\n",
       " 'INCLURE',\n",
       " 'INDIQUER',\n",
       " 'INDUSTRIE',\n",
       " 'INSECTE',\n",
       " 'INSTANT',\n",
       " 'INSTRUMENT',\n",
       " 'INTERET',\n",
       " 'INTERROGER',\n",
       " 'INVENTER',\n",
       " 'JAMAIS',\n",
       " 'JAMBE',\n",
       " 'JARDIN',\n",
       " 'JAUNE',\n",
       " 'JETER',\n",
       " 'JEUNE',\n",
       " 'JOIE',\n",
       " 'JOINDRE',\n",
       " 'JOUER',\n",
       " 'JOUR',\n",
       " 'JUSTE',\n",
       " 'LAISSER',\n",
       " 'LAIT',\n",
       " 'LANGUE',\n",
       " 'LARGE',\n",
       " 'LAVAGE',\n",
       " 'LENT',\n",
       " 'LETTRE',\n",
       " 'LEUR',\n",
       " 'LIEN',\n",
       " 'LIEU',\n",
       " 'LIGNE',\n",
       " 'LIQUIDE',\n",
       " 'LIRE',\n",
       " 'LISTE',\n",
       " 'LITRE',\n",
       " 'LIVRE',\n",
       " 'LOCALISER',\n",
       " 'LOIN',\n",
       " 'LOINTAIN',\n",
       " 'LONG',\n",
       " 'LONGUEUR',\n",
       " 'LOURD',\n",
       " 'LUMIERE',\n",
       " 'LUNE',\n",
       " 'LUTTE',\n",
       " 'MACHINE',\n",
       " 'MAGASIN',\n",
       " 'MAIN',\n",
       " 'MAINTENANT',\n",
       " 'MAIS',\n",
       " 'MAISON',\n",
       " 'MAITRE',\n",
       " 'MAJEUR',\n",
       " 'MANGER',\n",
       " 'MANIERE',\n",
       " 'MANQUER',\n",
       " 'MANTEAU',\n",
       " 'MARCHE',\n",
       " 'MARCHER',\n",
       " 'MARQUE',\n",
       " 'MASSE',\n",
       " 'MATERIEL',\n",
       " 'MATIN',\n",
       " 'MAUVAIS',\n",
       " 'MEDECIN',\n",
       " 'MEILLEUR',\n",
       " 'MELANGER',\n",
       " 'MELODIE',\n",
       " 'MEME',\n",
       " 'MENSONGE',\n",
       " 'MERCI',\n",
       " 'MERE',\n",
       " 'MESURER',\n",
       " 'METAL',\n",
       " 'METHODE',\n",
       " 'METTRE',\n",
       " 'MIDI',\n",
       " 'MIEUX',\n",
       " 'MILE',\n",
       " 'MILIEU',\n",
       " 'MILLE',\n",
       " 'MILLION',\n",
       " 'MINCE',\n",
       " 'MINE',\n",
       " 'MINUSCULE',\n",
       " 'MINUTE',\n",
       " 'MODELE',\n",
       " 'MODERNE',\n",
       " 'MOINS',\n",
       " 'MOIS',\n",
       " 'MOITIE',\n",
       " 'MOLECULE',\n",
       " 'MOMENT',\n",
       " 'MONDE',\n",
       " 'MONTAGNE',\n",
       " 'MONTEE',\n",
       " 'MONTRER',\n",
       " 'MONTURE',\n",
       " 'MORT',\n",
       " 'MOTEUR',\n",
       " 'MOURIR',\n",
       " 'MOUVEMENT',\n",
       " 'MULTIPLIER',\n",
       " 'MUSIQUE',\n",
       " 'NATION',\n",
       " 'NATURE',\n",
       " 'NATUREL',\n",
       " 'NAVIRE',\n",
       " 'NECESSAIRE',\n",
       " 'NEIGE',\n",
       " 'NEUF',\n",
       " 'NIVEAU',\n",
       " 'NOIR',\n",
       " 'NOMBRE',\n",
       " 'NORD',\n",
       " 'NOTE',\n",
       " 'NOTRE',\n",
       " 'NOURRITURE',\n",
       " 'NOUS',\n",
       " 'NOUVEAU',\n",
       " 'NUAGE',\n",
       " 'NUIT',\n",
       " 'OBJET',\n",
       " 'OBSERVER',\n",
       " 'OBTENIR',\n",
       " 'OCCUPE',\n",
       " 'OCEAN',\n",
       " 'ODEUR',\n",
       " 'OISEAU',\n",
       " 'OPPOSE',\n",
       " 'ORDRE',\n",
       " 'OREILLE',\n",
       " 'ORGANE',\n",
       " 'ORGANISER',\n",
       " 'ORIGINAL',\n",
       " 'OUEST',\n",
       " 'OUTIL',\n",
       " 'OUVERT',\n",
       " 'OXYGENE',\n",
       " 'PAGE',\n",
       " 'PAIN',\n",
       " 'PAIRE',\n",
       " 'PAPA',\n",
       " 'PAPIER',\n",
       " 'PARAGRAPHE',\n",
       " 'PARAITRE',\n",
       " 'PARLER',\n",
       " 'PART',\n",
       " 'PARTICULIER',\n",
       " 'PARTICULIEREMENT',\n",
       " 'PARTIE',\n",
       " 'PASSE',\n",
       " 'PASSER',\n",
       " 'PATIENTER',\n",
       " 'PAUSE',\n",
       " 'PAUVRES',\n",
       " 'PAYER',\n",
       " 'PAYS',\n",
       " 'PEAU',\n",
       " 'PEINDRE',\n",
       " 'PENDANT',\n",
       " 'PENSEE',\n",
       " 'PENSER',\n",
       " 'PERDU',\n",
       " 'PERE',\n",
       " 'PERIODE',\n",
       " 'PERMETTRE',\n",
       " 'PERSONNE',\n",
       " 'PERSONNES',\n",
       " 'PETIT',\n",
       " 'PEUPLER',\n",
       " 'PEUR',\n",
       " 'PEUT',\n",
       " 'PHRASE',\n",
       " 'PIECE',\n",
       " 'PIED',\n",
       " 'PIEDS',\n",
       " 'PIERRE',\n",
       " 'PISTE',\n",
       " 'PISTOLET',\n",
       " 'PLACE',\n",
       " 'PLAINE',\n",
       " 'PLAN',\n",
       " 'PLANETE',\n",
       " 'PLAT',\n",
       " 'PLEIN',\n",
       " 'PLUIE',\n",
       " 'PLURIEL',\n",
       " 'PLUS',\n",
       " 'PLUSIEURS',\n",
       " 'PLUTOT',\n",
       " 'PNEU',\n",
       " 'POEME',\n",
       " 'POIDS',\n",
       " 'POINT',\n",
       " 'POISSON',\n",
       " 'POMME',\n",
       " 'PORT',\n",
       " 'PORTE',\n",
       " 'PORTER',\n",
       " 'POSE',\n",
       " 'POSER',\n",
       " 'POSITION',\n",
       " 'POSSIBLE',\n",
       " 'POSTE',\n",
       " 'POUCE',\n",
       " 'POUR',\n",
       " 'POURQUOI',\n",
       " 'POURRAIT',\n",
       " 'POUSSER',\n",
       " 'POUSSIN',\n",
       " 'PRATIQUE',\n",
       " 'PREMIERE',\n",
       " 'PRENDRE',\n",
       " 'PREPARER',\n",
       " 'PRESENT',\n",
       " 'PRESSE',\n",
       " 'PRET',\n",
       " 'PRINCIPAL',\n",
       " 'PRINTEMPS',\n",
       " 'PRIS',\n",
       " 'PROBABLE',\n",
       " 'PROBLEME',\n",
       " 'PROCESSUS',\n",
       " 'PROCHE',\n",
       " 'PRODUIRE',\n",
       " 'PRODUIT',\n",
       " 'PROFOND',\n",
       " 'PROPAGATION',\n",
       " 'PROPOSITION',\n",
       " 'PROPRE',\n",
       " 'PROPRIETE',\n",
       " 'PROTEGER',\n",
       " 'PROUVER',\n",
       " 'PUIS',\n",
       " 'PUISSANCE',\n",
       " 'QUAND',\n",
       " 'QUATRE',\n",
       " 'QUESTION',\n",
       " 'QUEUE',\n",
       " 'QUOTIENT',\n",
       " 'RACINE',\n",
       " 'RADIO',\n",
       " 'RAIL',\n",
       " 'RAISON',\n",
       " 'RANGEE',\n",
       " 'RAPIDE',\n",
       " 'RAPPELER',\n",
       " 'RAYON',\n",
       " 'RECEVOIR',\n",
       " 'RECHERCHE',\n",
       " 'RECOLTE',\n",
       " 'RECORD',\n",
       " 'RECUEILLIR',\n",
       " 'REEL',\n",
       " 'REGARDER',\n",
       " 'REGION',\n",
       " 'REGLE',\n",
       " 'REGLER',\n",
       " 'RELIER',\n",
       " 'REMPLIR',\n",
       " 'RENCONTRE',\n",
       " 'REPETITION',\n",
       " 'REPONDRE',\n",
       " 'REPONSE',\n",
       " 'REPRESENTER',\n",
       " 'RESISTE',\n",
       " 'RESOUDRE',\n",
       " 'RESTE',\n",
       " 'RESTER',\n",
       " 'RESULTAT',\n",
       " 'REVENDICATION',\n",
       " 'REVER',\n",
       " 'RICHE',\n",
       " 'RIEN',\n",
       " 'RIRE',\n",
       " 'RIVAGE',\n",
       " 'RIVIERE',\n",
       " 'ROBE',\n",
       " 'ROCK',\n",
       " 'ROSE',\n",
       " 'ROUE',\n",
       " 'ROUGE',\n",
       " 'ROULEAU',\n",
       " 'ROUTE',\n",
       " 'SABLE',\n",
       " 'SAISON',\n",
       " 'SANG',\n",
       " 'SAUF',\n",
       " 'SAUTER',\n",
       " 'SAUVAGE',\n",
       " 'SAUVER',\n",
       " 'SAVAIT',\n",
       " 'SAVOIR',\n",
       " 'SCIE',\n",
       " 'SCIENCE',\n",
       " 'SCORE',\n",
       " 'SECTION',\n",
       " 'SEGMENT',\n",
       " 'SELECTIONNER',\n",
       " 'SEMAINE',\n",
       " 'SEMENCE',\n",
       " 'SENS',\n",
       " 'SENTIR',\n",
       " 'SEPARE',\n",
       " 'SEPT',\n",
       " 'SERVIR',\n",
       " 'SEUL',\n",
       " 'SEULEMENT',\n",
       " 'SIECLE',\n",
       " 'SIEGE',\n",
       " 'SIGNE',\n",
       " 'SIGNIFIAIT',\n",
       " 'SIGNIFIER',\n",
       " 'SILENCIEUX',\n",
       " 'SIMILAIRE',\n",
       " 'SIMPLE',\n",
       " 'SOINS',\n",
       " 'SOIREE',\n",
       " 'SOLDAT',\n",
       " 'SOLEIL',\n",
       " 'SOLUTION',\n",
       " 'SOMBRE',\n",
       " 'SOMMEIL',\n",
       " 'SONT',\n",
       " 'SOUDAIN',\n",
       " 'SOUHAITER',\n",
       " 'SOURIRE',\n",
       " 'SOUS',\n",
       " 'SOUSTRAIRE',\n",
       " 'SOUVENT',\n",
       " 'SPECIAL',\n",
       " 'STATION',\n",
       " 'SUBSTANCE',\n",
       " 'SUCCES',\n",
       " 'SUCRE',\n",
       " 'SUFFIXE',\n",
       " 'SUGGERER',\n",
       " 'SUIVANT',\n",
       " 'SUIVRE',\n",
       " 'SUJET',\n",
       " 'SUPPORT',\n",
       " 'SUPPORTER',\n",
       " 'SURFACE',\n",
       " 'SURPRISE',\n",
       " 'SYLLABE',\n",
       " 'SYMBOLE',\n",
       " 'SYSTEME',\n",
       " 'TABLE',\n",
       " 'TAILLE',\n",
       " 'TARD',\n",
       " 'TEMPERATURE',\n",
       " 'TEMPS',\n",
       " 'TENIR',\n",
       " 'TERME',\n",
       " 'TERMINE',\n",
       " 'TERRE',\n",
       " 'TEST',\n",
       " 'TETE',\n",
       " 'TIRER',\n",
       " 'TOMBER',\n",
       " 'TOTAL',\n",
       " 'TOUCHER',\n",
       " 'TOUJOURS',\n",
       " 'TOUR',\n",
       " 'TOUS',\n",
       " 'TOUT',\n",
       " 'TRAIN',\n",
       " 'TRAVAIL',\n",
       " 'TRAVERSER',\n",
       " 'TRES',\n",
       " 'TRIANGLE',\n",
       " 'TROIS',\n",
       " 'TROISIEME',\n",
       " 'TRONCON',\n",
       " 'TROP',\n",
       " 'TROU',\n",
       " 'TROUVE',\n",
       " 'TROUVER',\n",
       " 'TUBE',\n",
       " 'TUER',\n",
       " 'TYPE',\n",
       " 'UNIQUE',\n",
       " 'UNITE',\n",
       " 'USINE',\n",
       " 'UTILISER',\n",
       " 'VACHE',\n",
       " 'VAGUE',\n",
       " 'VALEUR',\n",
       " 'VALLEE',\n",
       " 'VAPEUR',\n",
       " 'VARIER',\n",
       " 'VENDRE',\n",
       " 'VENIR',\n",
       " 'VENT',\n",
       " 'VERBE',\n",
       " 'VERIFIER',\n",
       " 'VERRE',\n",
       " 'VERS',\n",
       " 'VERT',\n",
       " 'VETIR',\n",
       " 'VIANDE',\n",
       " 'VIEUX',\n",
       " 'VILLAGE',\n",
       " 'VILLE',\n",
       " 'VINGT',\n",
       " 'VISITE',\n",
       " 'VITESSE',\n",
       " 'VIVRE',\n",
       " 'VOILE',\n",
       " 'VOIR',\n",
       " 'VOISIN',\n",
       " 'VOITURE',\n",
       " 'VOIX',\n",
       " 'VOLER',\n",
       " 'VOLONTE',\n",
       " 'VOTRE',\n",
       " 'VOUDRAIS',\n",
       " 'VOULOIR',\n",
       " 'VOUS',\n",
       " 'VOYAGE',\n",
       " 'VOYELLE',\n",
       " 'VRAI',\n",
       " 'ZONE']"
      ]
     },
     "execution_count": 59,
     "metadata": {},
     "output_type": "execute_result"
    }
   ],
   "source": [
    "mots_pendus = texte.split(\"\\n\")\n",
    "mots_pendus"
   ]
  },
  {
   "cell_type": "markdown",
   "metadata": {},
   "source": [
    "Le module `random` dispose d'une fonction pour choisir aléatoirement un élément d'une liste, la fonction `choice()`."
   ]
  },
  {
   "cell_type": "code",
   "execution_count": 60,
   "metadata": {},
   "outputs": [
    {
     "data": {
      "text/plain": [
       "'EXACT'"
      ]
     },
     "execution_count": 60,
     "metadata": {},
     "output_type": "execute_result"
    }
   ],
   "source": [
    "solution = random.choice(mots_pendus)\n",
    "solution"
   ]
  },
  {
   "cell_type": "markdown",
   "metadata": {},
   "source": [
    "Voilà, il ne suffit plus qu'à choisir aléatoirement un mot, et notre jeu est complet !"
   ]
  },
  {
   "cell_type": "code",
   "execution_count": 61,
   "metadata": {},
   "outputs": [
    {
     "name": "stdout",
     "output_type": "stream",
     "text": [
      "\n",
      "Erreurs : 0\n",
      "---------\n",
      "Entrez une lettre : E\n",
      "\n",
      "Erreurs : 0\n",
      "-E--E---E\n",
      "Entrez une lettre : A\n",
      "\n",
      "Erreurs : 1\n",
      "-E--E---E\n",
      "Entrez une lettre : S\n",
      "\n",
      "Erreurs : 2\n",
      "-E--E---E\n",
      "Entrez une lettre : R\n",
      "\n",
      "Erreurs : 2\n",
      "RE--ER--E\n",
      "Entrez une lettre : N\n",
      "\n",
      "Erreurs : 3\n",
      "RE--ER--E\n",
      "Entrez une lettre : T\n",
      "\n",
      "Erreurs : 4\n",
      "RE--ER--E\n",
      "Entrez une lettre : S\n",
      "\n",
      "Erreurs : 5\n",
      "RE--ER--E\n",
      "Entrez une lettre : P\n",
      "\n",
      "Erreurs : 6\n",
      "RE--ER--E\n",
      "Entrez une lettre : F\n",
      "Perdu… La solution était RECHERCHE\n"
     ]
    }
   ],
   "source": [
    "solution = random.choice(mots_pendus)\n",
    "nombre_de_lettres = len(solution)\n",
    "mot = [\"-\"] * nombre_de_lettres\n",
    "mot_str = \"\".join(mot)\n",
    "\n",
    "erreurs = 0\n",
    "erreurs_maximum = 7\n",
    "\n",
    "while solution != mot_str:\n",
    "    \n",
    "    print(\"\\nErreurs :\", erreurs)\n",
    "    \n",
    "    print(mot_str)\n",
    "    lettre = input(\"Entrez une lettre : \")\n",
    "    \n",
    "    est_une_erreur = True\n",
    "    for i in range(nombre_de_lettres):\n",
    "        if solution[i] == lettre:\n",
    "            mot[i] = lettre\n",
    "            est_une_erreur = False\n",
    "    \n",
    "    if est_une_erreur:\n",
    "        erreurs = erreurs + 1\n",
    "    \n",
    "    mot_str = \"\".join(mot)\n",
    "    if erreurs >= erreurs_maximum:\n",
    "        print(\"Perdu… La solution était\", solution)\n",
    "        break\n",
    "    if mot_str == solution:\n",
    "        print(\"Bravo ! La solution était\", solution)\n"
   ]
  },
  {
   "cell_type": "markdown",
   "metadata": {},
   "source": [
    "## 3. Motus"
   ]
  },
  {
   "cell_type": "markdown",
   "metadata": {},
   "source": [
    "Plus compliqué, nous allons nous attaquer au jeu Motus. Un peu comme dans le pendu, il faut deviner un mot choisi au hasard. Pour cela, on peut proposer un mot de même taille, et on nous répond avec les lettres qui sont bien placées et celles qui existent mais sont mal placées. Nous allons utiliser des mots de 5 lettres, listés dans les fichiers [motus_essais.txt](motus_essais.txt) et [motus_solutions.txt](motus_solutions.txt). Le premier fichier liste tous les mots qu'un joueur a le droit de tenter (on n'a par exemple pas le droit de tenter le mot `AEIOU` pour tester toutes les voyelles d'un coup). Le second liste tous les mots qui peuvent être choisi pour être deviné : il s'agit de mots plus fréquents, plus simples."
   ]
  },
  {
   "cell_type": "markdown",
   "metadata": {},
   "source": [
    "### 3.1. Évaluation d'une réponse"
   ]
  },
  {
   "cell_type": "markdown",
   "metadata": {},
   "source": [
    "La partie la plus compliquée du programme est de calculer la réponse à donner au joueur en fonction de sa proposition, c'est-à-dire trouver les lettres biens placées, celles mal placées, et celles manquantes complètement. Pour une solution et une proposition données, le résultat sera une chaîne de caractères de même longueur, avec un tiret `-` si la lettre à cette position n'existe pas, un caractère plein `▓` si la lettre est bien placée, et un caractère semi-plein `░` si la lettre est mal placée."
   ]
  },
  {
   "cell_type": "code",
   "execution_count": 62,
   "metadata": {},
   "outputs": [
    {
     "data": {
      "text/plain": [
       "'-----'"
      ]
     },
     "execution_count": 62,
     "metadata": {},
     "output_type": "execute_result"
    }
   ],
   "source": [
    "solution = \"LAPIN\"\n",
    "proposition = \"SALUT\"\n",
    "\n",
    "resultat = [\"-\"] * 5\n",
    "\"\".join(resultat)"
   ]
  },
  {
   "cell_type": "markdown",
   "metadata": {},
   "source": [
    "Ici, on voudrait obtenir le résultat `-▓░--` (`A` bien placé, `L` mal placé)."
   ]
  },
  {
   "cell_type": "markdown",
   "metadata": {},
   "source": [
    "#### 3.1.1. Identifier les lettres correctes\n",
    "\n",
    "Identifier les lettres correctes ressemble beaucoup à ce qu'on a fait avec le pendu, donc on peut réutiliser la même logique."
   ]
  },
  {
   "cell_type": "code",
   "execution_count": 63,
   "metadata": {},
   "outputs": [
    {
     "data": {
      "text/plain": [
       "'-▓---'"
      ]
     },
     "execution_count": 63,
     "metadata": {},
     "output_type": "execute_result"
    }
   ],
   "source": [
    "resultat = [\"-\"] * 5\n",
    "for i in range(5):\n",
    "    if solution[i] == proposition[i]:\n",
    "        resultat[i] = \"▓\" # Alt+178\n",
    "        \n",
    "\"\".join(resultat)"
   ]
  },
  {
   "cell_type": "markdown",
   "metadata": {},
   "source": [
    "#### 3.1.2. Identifier les autres lettres\n",
    "\n",
    "Mais se pose alors le problème des lettres mal placées. On ne peut pas se contenter de vérifier si une lettre qui n'est pas bien placée existe ailleurs dans la solution, car il y a un problème de multiplicité. Par exemple, toujours pour la solution `LAPIN`, la proposition `ACHAT` donne `░----`. Le deuxième `A` n'est pas indiqué comme mal placé, car il n'y a qu'un `A` dans `LAPIN` et le premier `A` de `ACHAT` l'a déjà indiqué.\n",
    "\n",
    "On va donc procéder plus finement. On va mettre toutes les lettres rester à trouver dans la solution dans une liste. Pour ajouter des éléments à une liste, on utilise la méthode `.append()` (ajouter)."
   ]
  },
  {
   "cell_type": "code",
   "execution_count": 64,
   "metadata": {},
   "outputs": [
    {
     "data": {
      "text/plain": [
       "['L', 'A', 'P', 'I', 'N']"
      ]
     },
     "execution_count": 64,
     "metadata": {},
     "output_type": "execute_result"
    }
   ],
   "source": [
    "proposition = \"ACHAT\"\n",
    "\n",
    "resultat = [\"-\"] * 5\n",
    "lettres_utilisables = []\n",
    "for i in range(5):\n",
    "    if solution[i] == proposition[i]:\n",
    "        resultat[i] = \"▓\" # Alt+178\n",
    "    else:\n",
    "        lettres_utilisables.append(solution[i])\n",
    "        \n",
    "lettres_utilisables"
   ]
  },
  {
   "cell_type": "markdown",
   "metadata": {},
   "source": [
    "#### 3.1.3. Vérifier si ces lettres sont ailleurs dans le mot\n",
    "\n",
    "Cette liste va nous servir de réservoir. Pour chaque lettre dans le mot proposé, si elle n'est pas bien placée, on va regarder ce réservoir. Si elle est présente dans le réservoir, c'est qu'elle est mal placée et qu'elle n'a pas encore été liée à une autre lettre. On la note donc comme mal placée, et on l'enlève du réservoir, avec la méthode `.remove()` (enlever)."
   ]
  },
  {
   "cell_type": "code",
   "execution_count": 65,
   "metadata": {},
   "outputs": [
    {
     "data": {
      "text/plain": [
       "'░----'"
      ]
     },
     "execution_count": 65,
     "metadata": {},
     "output_type": "execute_result"
    }
   ],
   "source": [
    "for i in range(5):\n",
    "    if solution[i] == proposition[i]:\n",
    "        continue\n",
    "    if proposition[i] in lettres_utilisables:\n",
    "        resultat[i] = \"░\" # Alt+176\n",
    "        lettres_utilisables.remove(proposition[i])\n",
    "        \n",
    "\"\".join(resultat)"
   ]
  },
  {
   "cell_type": "markdown",
   "metadata": {},
   "source": [
    "#### 3.1.4. Assemblage\n",
    "\n",
    "Enfin, on met tout ensemble dans une seule fonction. C'est la première fois que l'on utilise cette notation, qui permet de réutiliser tout un bout de code en appelant uniquement son nom, ici `evaluer`. Les deux mots qui suivent ce nom sont les paramètres de la fonction, des variables qui peuvent prendre n'importe quelle valeur en fonction de ce qu'indique l'utilisateur."
   ]
  },
  {
   "cell_type": "code",
   "execution_count": 66,
   "metadata": {},
   "outputs": [
    {
     "name": "stdout",
     "output_type": "stream",
     "text": [
      "LAPIN SALUT -▓░--\n",
      "LAPIN ACHAT ░----\n",
      "LAPIN LAPIN ▓▓▓▓▓\n"
     ]
    }
   ],
   "source": [
    "def evaluer(solution, proposition):\n",
    "    resultat = [\"-\"] * 5\n",
    "    lettres_utilisables = []\n",
    "    for i in range(5):\n",
    "        if solution[i] == proposition[i]:\n",
    "            resultat[i] = \"▓\" # Alt+178\n",
    "        else:\n",
    "            lettres_utilisables.append(solution[i])\n",
    "    for i in range(5):\n",
    "        if solution[i] == proposition[i]:\n",
    "            continue\n",
    "        if proposition[i] in lettres_utilisables:\n",
    "            resultat[i] = \"░\" # Alt+176\n",
    "            lettres_utilisables.remove(proposition[i])\n",
    "    return \"\".join(resultat)\n",
    "\n",
    "print(\"LAPIN\", \"SALUT\", evaluer(\"LAPIN\", \"SALUT\"))\n",
    "print(\"LAPIN\", \"ACHAT\", evaluer(\"LAPIN\", \"ACHAT\"))\n",
    "print(\"LAPIN\", \"LAPIN\", evaluer(\"LAPIN\", \"LAPIN\"))"
   ]
  },
  {
   "cell_type": "markdown",
   "metadata": {},
   "source": [
    "### 3.2. Squelette du programme"
   ]
  },
  {
   "cell_type": "markdown",
   "metadata": {},
   "source": [
    "Le plus dur est fait. Désormais, on assemble le tout. On commence par lire les fichiers textes contenant les mots à tenter ou à trouver. On choisit un mot au hasard. Pour chaque essai, on demande à l'utilisateur un mot. S'il existe, on évalue cette proposition et on affiche le résultat."
   ]
  },
  {
   "cell_type": "code",
   "execution_count": 67,
   "metadata": {},
   "outputs": [
    {
     "name": "stdout",
     "output_type": "stream",
     "text": [
      "Essai 1 sur 6\n",
      "SALUT\n",
      "-----\n",
      "Essai 2 sur 6\n",
      "CHIEN\n",
      "▓-░░-\n",
      "Essai 3 sur 6\n",
      "CIELS\n",
      "▓░░--\n",
      "Essai 4 sur 6\n",
      "CELUI\n",
      "▓░--░\n",
      "Essai 5 sur 6\n",
      "CIEUX\n",
      "▓░░--\n",
      "Essai 6 sur 6\n",
      "CARIE\n",
      "▓--▓▓\n",
      "La solution était COPIE\n"
     ]
    }
   ],
   "source": [
    "with open(\"motus_essais.txt\") as file:\n",
    "    mots_essais = file.read().split(\"\\n\")\n",
    "\n",
    "with open(\"motus_solutions.txt\") as file:\n",
    "    mots_solutions = file.read().split(\"\\n\")\n",
    "\n",
    "solution = random.choice(mots_solutions)\n",
    "\n",
    "essais_maximum = 6\n",
    "\n",
    "for essai in range(essais_maximum):\n",
    "    print(\"Essai\", essai + 1, \"sur\", essais_maximum)\n",
    "    proposition = input()\n",
    "    if proposition not in mots_essais:\n",
    "        print(\"Ce mot n'existe pas\\n\")\n",
    "        continue\n",
    "    if proposition == solution:\n",
    "        print(\"\\nBravo !\")\n",
    "        break\n",
    "    evaluation = evaluer(solution, proposition)\n",
    "    print(\"\".join(evaluation))\n",
    "\n",
    "print(\"La solution était\", solution)"
   ]
  },
  {
   "cell_type": "markdown",
   "metadata": {},
   "source": [
    "## 4. ASCII Art\n",
    "\n",
    "Dernier petit programme, pour essayer quelque chose de plus graphique. L'ASCII Art est le fait de faire des dessins en n'utilisant que des caractères ASCII, par exemple :\n",
    "\n",
    "```\n",
    "_________________________________________________\n",
    "|             _       _    ____   ____ ___ ___  |\n",
    "|   __ _ _ __| |_    / \\  / ___| / ___|_ _|_ _| |\n",
    "|  / _` | '__| __|  / _ \\ \\___ \\| |    | | | |  |\n",
    "| | (_| | |  | |_  / ___ \\ ___) | |___ | | | |  |\n",
    "|  \\__,_|_|   \\__|/_/   \\_\\____/ \\____|___|___| |\n",
    "|_______________________________________________|\n",
    "```\n",
    "\n",
    "Notre objectif est de fabriquer un convertisseur, qui va prendre une image et la convertir en ASCII Art. Pour nous aider, on va utiliser une fonction préparée pour l'occasion, dans le module `ressources`, nommée `charger_image()`. On lui donne le nom du fichier et elle renvoie une représentation numérique de cette image, en nuances de gris : chaque pixel de l'image contient une valeur entre 0 (noir) et 255 (blanc). Pour faire notre convertisseur, on va simplement associer un caractère en fonction de la nuance de gris, en choisissant des caractères occupant de plus en plus de surface (pour fonctionner, il faut que la liste soit dans le bon ordre !) :"
   ]
  },
  {
   "cell_type": "code",
   "execution_count": 68,
   "metadata": {},
   "outputs": [],
   "source": [
    "caracteres = \" .:-=+*#%@\"\n",
    "nombre_caracteres = len(caracteres)"
   ]
  },
  {
   "cell_type": "markdown",
   "metadata": {},
   "source": [
    "Prenons un niveau de gris quelconque. Avec une règle de trois, on calcule quel sera la position du caractère associé."
   ]
  },
  {
   "cell_type": "code",
   "execution_count": 69,
   "metadata": {},
   "outputs": [
    {
     "data": {
      "text/plain": [
       "5.15625"
      ]
     },
     "execution_count": 69,
     "metadata": {},
     "output_type": "execute_result"
    }
   ],
   "source": [
    "niveau_de_gris = 132\n",
    "niveau_de_gris / 256 * nombre_caracteres"
   ]
  },
  {
   "cell_type": "code",
   "execution_count": 70,
   "metadata": {},
   "outputs": [
    {
     "data": {
      "text/plain": [
       "5"
      ]
     },
     "execution_count": 70,
     "metadata": {},
     "output_type": "execute_result"
    }
   ],
   "source": [
    "int(niveau_de_gris / 256 * nombre_caracteres)"
   ]
  },
  {
   "cell_type": "markdown",
   "metadata": {},
   "source": [
    "On choisit ce caractère en utilisant la fonctionnalité d'accès à un élément d'une liste."
   ]
  },
  {
   "cell_type": "code",
   "execution_count": 71,
   "metadata": {},
   "outputs": [
    {
     "data": {
      "text/plain": [
       "'+'"
      ]
     },
     "execution_count": 71,
     "metadata": {},
     "output_type": "execute_result"
    }
   ],
   "source": [
    "caracteres[int(niveau_de_gris / 256 * nombre_caracteres)]"
   ]
  },
  {
   "cell_type": "markdown",
   "metadata": {},
   "source": [
    "On peut tester, pour chaque nuance de gris possible, quel sera le caractère affiché :"
   ]
  },
  {
   "cell_type": "code",
   "execution_count": 72,
   "metadata": {},
   "outputs": [
    {
     "name": "stdout",
     "output_type": "stream",
     "text": [
      "0  \n",
      "1  \n",
      "2  \n",
      "3  \n",
      "4  \n",
      "5  \n",
      "6  \n",
      "7  \n",
      "8  \n",
      "9  \n",
      "10  \n",
      "11  \n",
      "12  \n",
      "13  \n",
      "14  \n",
      "15  \n",
      "16  \n",
      "17  \n",
      "18  \n",
      "19  \n",
      "20  \n",
      "21  \n",
      "22  \n",
      "23  \n",
      "24  \n",
      "25  \n",
      "26 .\n",
      "27 .\n",
      "28 .\n",
      "29 .\n",
      "30 .\n",
      "31 .\n",
      "32 .\n",
      "33 .\n",
      "34 .\n",
      "35 .\n",
      "36 .\n",
      "37 .\n",
      "38 .\n",
      "39 .\n",
      "40 .\n",
      "41 .\n",
      "42 .\n",
      "43 .\n",
      "44 .\n",
      "45 .\n",
      "46 .\n",
      "47 .\n",
      "48 .\n",
      "49 .\n",
      "50 .\n",
      "51 .\n",
      "52 :\n",
      "53 :\n",
      "54 :\n",
      "55 :\n",
      "56 :\n",
      "57 :\n",
      "58 :\n",
      "59 :\n",
      "60 :\n",
      "61 :\n",
      "62 :\n",
      "63 :\n",
      "64 :\n",
      "65 :\n",
      "66 :\n",
      "67 :\n",
      "68 :\n",
      "69 :\n",
      "70 :\n",
      "71 :\n",
      "72 :\n",
      "73 :\n",
      "74 :\n",
      "75 :\n",
      "76 :\n",
      "77 -\n",
      "78 -\n",
      "79 -\n",
      "80 -\n",
      "81 -\n",
      "82 -\n",
      "83 -\n",
      "84 -\n",
      "85 -\n",
      "86 -\n",
      "87 -\n",
      "88 -\n",
      "89 -\n",
      "90 -\n",
      "91 -\n",
      "92 -\n",
      "93 -\n",
      "94 -\n",
      "95 -\n",
      "96 -\n",
      "97 -\n",
      "98 -\n",
      "99 -\n",
      "100 -\n",
      "101 -\n",
      "102 -\n",
      "103 =\n",
      "104 =\n",
      "105 =\n",
      "106 =\n",
      "107 =\n",
      "108 =\n",
      "109 =\n",
      "110 =\n",
      "111 =\n",
      "112 =\n",
      "113 =\n",
      "114 =\n",
      "115 =\n",
      "116 =\n",
      "117 =\n",
      "118 =\n",
      "119 =\n",
      "120 =\n",
      "121 =\n",
      "122 =\n",
      "123 =\n",
      "124 =\n",
      "125 =\n",
      "126 =\n",
      "127 =\n",
      "128 +\n",
      "129 +\n",
      "130 +\n",
      "131 +\n",
      "132 +\n",
      "133 +\n",
      "134 +\n",
      "135 +\n",
      "136 +\n",
      "137 +\n",
      "138 +\n",
      "139 +\n",
      "140 +\n",
      "141 +\n",
      "142 +\n",
      "143 +\n",
      "144 +\n",
      "145 +\n",
      "146 +\n",
      "147 +\n",
      "148 +\n",
      "149 +\n",
      "150 +\n",
      "151 +\n",
      "152 +\n",
      "153 +\n",
      "154 *\n",
      "155 *\n",
      "156 *\n",
      "157 *\n",
      "158 *\n",
      "159 *\n",
      "160 *\n",
      "161 *\n",
      "162 *\n",
      "163 *\n",
      "164 *\n",
      "165 *\n",
      "166 *\n",
      "167 *\n",
      "168 *\n",
      "169 *\n",
      "170 *\n",
      "171 *\n",
      "172 *\n",
      "173 *\n",
      "174 *\n",
      "175 *\n",
      "176 *\n",
      "177 *\n",
      "178 *\n",
      "179 *\n",
      "180 #\n",
      "181 #\n",
      "182 #\n",
      "183 #\n",
      "184 #\n",
      "185 #\n",
      "186 #\n",
      "187 #\n",
      "188 #\n",
      "189 #\n",
      "190 #\n",
      "191 #\n",
      "192 #\n",
      "193 #\n",
      "194 #\n",
      "195 #\n",
      "196 #\n",
      "197 #\n",
      "198 #\n",
      "199 #\n",
      "200 #\n",
      "201 #\n",
      "202 #\n",
      "203 #\n",
      "204 #\n",
      "205 %\n",
      "206 %\n",
      "207 %\n",
      "208 %\n",
      "209 %\n",
      "210 %\n",
      "211 %\n",
      "212 %\n",
      "213 %\n",
      "214 %\n",
      "215 %\n",
      "216 %\n",
      "217 %\n",
      "218 %\n",
      "219 %\n",
      "220 %\n",
      "221 %\n",
      "222 %\n",
      "223 %\n",
      "224 %\n",
      "225 %\n",
      "226 %\n",
      "227 %\n",
      "228 %\n",
      "229 %\n",
      "230 %\n",
      "231 @\n",
      "232 @\n",
      "233 @\n",
      "234 @\n",
      "235 @\n",
      "236 @\n",
      "237 @\n",
      "238 @\n",
      "239 @\n",
      "240 @\n",
      "241 @\n",
      "242 @\n",
      "243 @\n",
      "244 @\n",
      "245 @\n",
      "246 @\n",
      "247 @\n",
      "248 @\n",
      "249 @\n",
      "250 @\n",
      "251 @\n",
      "252 @\n",
      "253 @\n",
      "254 @\n",
      "255 @\n"
     ]
    }
   ],
   "source": [
    "for niveau_de_gris in range(256):\n",
    "    print(niveau_de_gris, caracteres[int(niveau_de_gris / 256 * nombre_caracteres)])"
   ]
  },
  {
   "cell_type": "markdown",
   "metadata": {},
   "source": [
    "Il ne reste plus qu'à parcourir toute l'image, et afficher les caractères les uns après les autres. Quelques subtilités cependant :\n",
    "\n",
    "Pour importer la fonction `charger_image` du module `ressources`, on utilise la syntaxe `from module import fonction`"
   ]
  },
  {
   "cell_type": "code",
   "execution_count": 73,
   "metadata": {},
   "outputs": [],
   "source": [
    "from ressources import charger_image"
   ]
  },
  {
   "cell_type": "markdown",
   "metadata": {},
   "source": [
    "La fonction `charger_image` renvoie trois variables : `image`, la liste des nuances de gris, `hauteur`, le nombre de pixels sur une colonne et `largeur`, le nombre de pixels sur une ligne"
   ]
  },
  {
   "cell_type": "code",
   "execution_count": 74,
   "metadata": {},
   "outputs": [
    {
     "data": {
      "text/plain": [
       "(22, 61)"
      ]
     },
     "execution_count": 74,
     "metadata": {},
     "output_type": "execute_result"
    }
   ],
   "source": [
    "image, hauteur, largeur = charger_image(\"lion.jpg\")\n",
    "hauteur, largeur"
   ]
  },
  {
   "cell_type": "markdown",
   "metadata": {},
   "source": [
    "La variable `image` est une liste de listes : chaque élément correspond à une ligne de l'image, qui est la liste des nuances de gris de cette ligne."
   ]
  },
  {
   "cell_type": "code",
   "execution_count": 75,
   "metadata": {},
   "outputs": [
    {
     "data": {
      "text/plain": [
       "[255.0,\n",
       " 255.0,\n",
       " 255.0,\n",
       " 255.0,\n",
       " 255.0,\n",
       " 255.0,\n",
       " 255.0,\n",
       " 255.0,\n",
       " 255.0,\n",
       " 255.0,\n",
       " 255.0,\n",
       " 255.0,\n",
       " 255.0,\n",
       " 255.0,\n",
       " 255.0,\n",
       " 255.0,\n",
       " 255.0,\n",
       " 255.0,\n",
       " 255.0,\n",
       " 255.0,\n",
       " 255.0,\n",
       " 255.0,\n",
       " 255.0,\n",
       " 255.0,\n",
       " 255.0,\n",
       " 255.0,\n",
       " 255.0,\n",
       " 255.0,\n",
       " 255.0,\n",
       " 255.0,\n",
       " 255.0,\n",
       " 255.0,\n",
       " 255.0,\n",
       " 255.0,\n",
       " 255.0,\n",
       " 255.0,\n",
       " 255.0,\n",
       " 255.0,\n",
       " 255.0,\n",
       " 255.0,\n",
       " 255.0,\n",
       " 255.0,\n",
       " 255.0,\n",
       " 255.0,\n",
       " 255.0,\n",
       " 255.0,\n",
       " 255.0,\n",
       " 255.0,\n",
       " 255.0,\n",
       " 255.0,\n",
       " 255.0,\n",
       " 255.0,\n",
       " 255.0,\n",
       " 255.0,\n",
       " 255.0,\n",
       " 255.0,\n",
       " 255.0,\n",
       " 255.0,\n",
       " 255.0,\n",
       " 255.0,\n",
       " 255.0]"
      ]
     },
     "execution_count": 75,
     "metadata": {},
     "output_type": "execute_result"
    }
   ],
   "source": [
    "image[0]"
   ]
  },
  {
   "cell_type": "markdown",
   "metadata": {},
   "source": [
    "Pour pouvoir parcourir cette « double »-liste, on doit imbriquer une boucle dans une autre boucle. Pour chaque ligne, pour chaque colonne, on calcule le caractère à afficher, et on l'afficher. Noter également le paramètre `end=\"\"` ajouté à la fonction `print()` pour éviter le retour automatique à la ligne."
   ]
  },
  {
   "cell_type": "code",
   "execution_count": 76,
   "metadata": {},
   "outputs": [
    {
     "name": "stdout",
     "output_type": "stream",
     "text": [
      "@@@@@@@@@@@@@@@@@@@@@@@@@@@@@@@@@@@@@@@@@@@@@@@@@@@@@@@@@@@@@@@@@@@@@@@@@@@@@@@@@@@@@@\n",
      "@@@@@@@@@@@@@@@@@@@@@@@@@@@@@@@@@@@@@@@@@@@@@@@@@@@@@@@@@@@@@@@@@@@@@@@@@@@@@@@@@@@@@@\n",
      "@@@@@@@@@@@@@@@@@@@@@@@@@@@@@@@@@@@@@@@@@@@@@@@@@@@@@@@@@@@@@@@@@@@@@@@@@@@@@@@@@@@@@@\n",
      "@@@@@@@@@@@@@@@@@@@@@@@@@@@@@@@@@@@@@@@@@@@@@@@@@@@@@@@@@@@@@@@@@@@@@@@@@@@@@@@@@@@@@@\n",
      "@@@@@@@@@@@@@@@@@@@@@@@@@@@@@@@@@@@@@@@@@@@@@@@@@@@@@@@@@@@@@@@@@@@@@@@@@@@@@@@@@@@@@@\n",
      "@@@@@@@@@@@@@@@@@@@@@@@@@@@@@@@@@@@@@@@@@@@@@@@@@@@@@@@@@@@@@@@@@@@@@@@@@@@@@@@@@@@@@@\n",
      "@@@@@@@@@@@@@@@@@@@@@@@@@@@@@@@@@@@@@@@@@@@@@@@@@@@@@@@@@@@@@@@@@@@@@@@@@@@@@@@@@@@@@@\n",
      "@@@@@@@@@@@@@@@@@@@@@@@@@@@@@@@@@@@@@@@@@@@@@@@@@@@@@@@@@@@@@@@@@@@@@@@@@@@@@@@@@@@@@@\n",
      "@@@@@@@@@@@@@@@@@@@@@@@@@@@@@@@@@@@@@@@@@@@@@@@@@@@@@@@@@@@@@@@@@@@@@@@@@@@@@@@@@@@@@@\n",
      "@@@@@@@@@@@@@@@@@@@@@@@@@@@@@@@@@@@@@@@@@@@@@@@@@@@@@@@@@@@@@@@@@@@@@@@@@@@@@@@@@@@@@@\n",
      "@@@@@@@@@@@@@@@@@@@@@@@@@@@@@@@@@@@@@@@@@@@@@@@@@@@@@@@@@@@@@@@@@@@@@@@@@@@@@@@@@@@@@@\n",
      "@@@@@@@@@@@@@@@@@@@@@@@@@@@@@@@@@@@@@@@@@@@@@@@@@@@@@@@@@@@@@@@@@@@@@@@@@@@@@@@@@@@@@@\n",
      "@@@@@@@@@@@@@@@@@@@@@@@@@@@@@@@@@@@@@@%-:--+#%@@@@@@@@@@@@@@@@@@@@@@@@@@@@@@@@@@@@@@@@\n",
      "@@@@@@@@@@@@@@@@@@@@@@@@@@@@@@@@@@@@@#         :%@@@@@@@@@@@@@@@@@@@@@@@@@@@@@@@@@@@@@\n",
      "@@@@@@@@@@@@@@@@@@@@@@@@@@@@@@@@@@@@%.           =*#%@@@@@@@@@@@@@@@@@@@@@@@@@@@@@@@@@\n",
      "@@@@@@@@@@@@@@@@@@@@@@@@@@@@@@@@@@@@+.                .:-++*#%@@@@@@@@@@@@@@@@@@@@@@@@\n",
      "@@@@@@@@@@@@@@@@@@@@@@@@@@@@@@@@@@@@@@-*@+                    .-*@@@@@@@@@@@@@@@@@@@@@\n",
      "@@@@@@@@@@@@@@@@@@@@@@@@@@@@@@@@@@@@@@@@@@-                      :@@@@@@@@@@@@@@@@@@@@\n",
      "@@@@@@==#%%@@@@@@@@@@@@@@@@@@@@@@@@@@@@@@@@.  .                  .*@@@@@@@@@@@@@@@@@@@\n",
      "@@@@@@.   .=*#%%*@@@%%@@@@@@@@@@@@@@@@@@@@@: :+ :@%*++*%@@+     .=+@@@@@@@@@@@@@@@@@@@\n",
      "@@@@@@.        ..==+**##*+#%@@@@@@@@@@@@@@@: #+ =@@@@@@@@@#  .   ==@@@@@@@@@@@@@@@@@@@\n",
      "@@@@@@.             :::.. .:=+%##@@@@@@@@@@::@= *@@@@@@@@@@. *%. .:%@@#@@@@@@%%@@@@@@@\n",
      "@@@@@@.                            .:--=-:  --  *#%%%%@%%%*  #@@+ :***+%%%*=-::#@@@@@@\n",
      "@@@@@@.                                                            ..          #@@@@@@\n",
      "@@@@@@.                                                                        #@@@@@@\n",
      "@@@@@@.                                                                        #@@@@@@\n",
      "@@@@@@.                                                                        #@@@@@@\n",
      "@@@@@@*++++++++++++++++++++++++++++++++++++++++++++++++++++++++++++++++++++++++%@@@@@@\n",
      "@@@@@@@@@@@@@@@@@@@@@@@@@@@@@@@@@@@@@@@@@@@@@@@@@@@@@@@@@@@@@@@@@@@@@@@@@@@@@@@@@@@@@@\n",
      "@@@@@@@@@@@@@@@@@@@@@@@@@@@@@@@@@@@@@@@@@@@@@@@@@@@@@@@@@@@@@@@@@@@@@@@@@@@@@@@@@@@@@@\n",
      "@@@@@@@@@@@@@@@@@@@@@@@@@@@@@@@@@@@@@@@@@@@@@@@@@@@@@@@@@@@@@@@@@@@@@@@@@@@@@@@@@@@@@@\n"
     ]
    }
   ],
   "source": [
    "from ressources import charger_image\n",
    "\n",
    "largeur = 80\n",
    "caracteres = \" .:-=+*#%@\"\n",
    "image, hauteur, largeur = charger_image(\"lion.jpg\", largeur)\n",
    "for i in range(hauteur):\n",
    "    for j in range(largeur):\n",
    "        luminosite = image[i][j] / 256\n",
    "        index = int(luminosite * len(caracteres))\n",
    "        print(caracteres[index], end=\"\")\n",
    "    print(\"\")\n"
   ]
  },
  {
   "cell_type": "markdown",
   "metadata": {},
   "source": [
    "# Conclusion\n",
    "\n",
    "Bravo ! Vous avez déjà abordé la plupart des outils fondamentaux de Python !"
   ]
  }
 ],
 "metadata": {
  "kernelspec": {
   "display_name": "Python 3 (ipykernel)",
   "language": "python",
   "name": "python3"
  },
  "language_info": {
   "codemirror_mode": {
    "name": "ipython",
    "version": 3
   },
   "file_extension": ".py",
   "mimetype": "text/x-python",
   "name": "python",
   "nbconvert_exporter": "python",
   "pygments_lexer": "ipython3",
   "version": "3.9.5"
  },
  "vscode": {
   "interpreter": {
    "hash": "5de252128c3e90b5ab77a2537560095409d5071d8d2efe6bc04d622ca931c6ef"
   }
  }
 },
 "nbformat": 4,
 "nbformat_minor": 2
}
